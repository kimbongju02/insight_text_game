{
 "cells": [
  {
   "cell_type": "code",
   "execution_count": null,
   "metadata": {},
   "outputs": [],
   "source": [
    "import os\n",
    "current_folder = os.getcwd()\n",
    "\n",
    "novels_folder_path = os.path.join(current_folder, '..\\\\..\\\\insight_text_game_dataset\\\\visual-novel-preprocessing-byQMark')\n",
    "novels_folderName_list = os.listdir(novels_folder_path)\n",
    "\n",
    "# json 파일들이 모일 상위 폴더\n",
    "save_folder_path = os.path.join(current_folder, '..\\\\..\\\\insight_text_game_dataset\\\\visual-novel-preprocessing-byQ')\n",
    "if not os.path.exists(save_folder_path):\n",
    "    os.mkdir(save_folder_path)"
   ]
  },
  {
   "cell_type": "code",
   "execution_count": null,
   "metadata": {},
   "outputs": [],
   "source": []
  }
 ],
 "metadata": {
  "language_info": {
   "name": "python"
  }
 },
 "nbformat": 4,
 "nbformat_minor": 2
}
