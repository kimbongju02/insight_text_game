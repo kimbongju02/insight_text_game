{
 "cells": [
  {
   "cell_type": "code",
   "execution_count": 51,
   "metadata": {},
   "outputs": [],
   "source": [
    "import jsonlines\n",
    "\n",
    "json_url = '../visual-novels-json/visual-novels.jsonl'\n",
    "\n",
    "# id 정보를 모아서 저장하는 예시\n",
    "virtual_novels = []\n",
    "\n",
    "# open 내의 디렉토리 및 파일 이름에 유의\n",
    "with jsonlines.open(json_url) as f:\n",
    "    for line in f:\n",
    "        virtual_novels.append(line)"
   ]
  },
  {
   "cell_type": "code",
   "execution_count": 52,
   "metadata": {},
   "outputs": [
    {
     "data": {
      "text/plain": [
       "9781"
      ]
     },
     "execution_count": 52,
     "metadata": {},
     "output_type": "execute_result"
    }
   ],
   "source": [
    "len(virtual_novels)"
   ]
  },
  {
   "cell_type": "code",
   "execution_count": 53,
   "metadata": {},
   "outputs": [
    {
     "data": {
      "text/plain": [
       "dict"
      ]
     },
     "execution_count": 53,
     "metadata": {},
     "output_type": "execute_result"
    }
   ],
   "source": [
    "type(virtual_novels[0])"
   ]
  },
  {
   "cell_type": "code",
   "execution_count": null,
   "metadata": {},
   "outputs": [],
   "source": [
    "test_text = virtual_novels[1]['text']\n",
    "\n",
    "split_text = test_text.split('\\n')\n",
    "\n",
    "for text in split_text:\n",
    "    print(text)"
   ]
  },
  {
   "cell_type": "code",
   "execution_count": 54,
   "metadata": {},
   "outputs": [],
   "source": [
    "class dict(object):\n",
    "    def __init__(self, name):\n",
    "        self._name = name\n",
    "\n",
    "    def __str__(self):\n",
    "        return self._name\n",
    "\n",
    "    def __repr__(self):\n",
    "        return \"'\"+self._name+\"'\"\n"
   ]
  },
  {
   "cell_type": "code",
   "execution_count": null,
   "metadata": {},
   "outputs": [],
   "source": [
    "import json\n",
    "\n",
    "for idx, vitrual_novel in enumerate(virtual_novels):\n",
    "    split_list = []\n",
    "    error_sig = 1\n",
    "    \n",
    "    virtual_novel_split = vitrual_novel['text'].split('\\n')\n",
    "\n",
    "    for text in virtual_novel_split:\n",
    "        try:\n",
    "            if text[0] == '*':\n",
    "                split_list.append({'narration': text[1:-1].strip()})\n",
    "            else:\n",
    "                name, content = text.split(':', 1)\n",
    "                split_list.append({name.strip(): content.strip()})\n",
    "        except:\n",
    "            split_list.append({'unknown': text.strip()})\n",
    "            \n",
    "    if error_sig:\n",
    "        visual_nodel_json_url = \"./visual_novel_json/novel\"+str(idx)+\".json\"\n",
    "\n",
    "        with open(visual_nodel_json_url, 'w') as f : \n",
    "            json.dump(split_list, f, indent=4)"
   ]
  }
 ],
 "metadata": {
  "kernelspec": {
   "display_name": "Python 3",
   "language": "python",
   "name": "python3"
  },
  "language_info": {
   "codemirror_mode": {
    "name": "ipython",
    "version": 3
   },
   "file_extension": ".py",
   "mimetype": "text/x-python",
   "name": "python",
   "nbconvert_exporter": "python",
   "pygments_lexer": "ipython3",
   "version": "3.12.4"
  }
 },
 "nbformat": 4,
 "nbformat_minor": 2
}
