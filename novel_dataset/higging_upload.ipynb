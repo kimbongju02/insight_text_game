{
 "cells": [
  {
   "cell_type": "code",
   "execution_count": 5,
   "metadata": {},
   "outputs": [
    {
     "data": {
      "application/vnd.jupyter.widget-view+json": {
       "model_id": "1bbbc26582154102bdaa0ece848887f2",
       "version_major": 2,
       "version_minor": 0
      },
      "text/plain": [
       "9-nine- Episode 1.tar:   0%|          | 0.00/594k [00:00<?, ?B/s]"
      ]
     },
     "metadata": {},
     "output_type": "display_data"
    },
    {
     "data": {
      "application/vnd.jupyter.widget-view+json": {
       "model_id": "00f2b37b75a8489c8d9dfe92973e79bb",
       "version_major": 2,
       "version_minor": 0
      },
      "text/plain": [
       "9-nine- Episode 4.tar:   0%|          | 0.00/1.19M [00:00<?, ?B/s]"
      ]
     },
     "metadata": {},
     "output_type": "display_data"
    },
    {
     "data": {
      "application/vnd.jupyter.widget-view+json": {
       "model_id": "207d8a87db1845f284506322c02afb55",
       "version_major": 2,
       "version_minor": 0
      },
      "text/plain": [
       "9-nine- Episode 2.tar:   0%|          | 0.00/1.30M [00:00<?, ?B/s]"
      ]
     },
     "metadata": {},
     "output_type": "display_data"
    },
    {
     "data": {
      "application/vnd.jupyter.widget-view+json": {
       "model_id": "614b8c2b04284bfc8efc53c30411964b",
       "version_major": 2,
       "version_minor": 0
      },
      "text/plain": [
       "9-nine- Episode 3.tar:   0%|          | 0.00/1.20M [00:00<?, ?B/s]"
      ]
     },
     "metadata": {},
     "output_type": "display_data"
    },
    {
     "data": {
      "application/vnd.jupyter.widget-view+json": {
       "model_id": "fcff0d20f82d4059987363286378a352",
       "version_major": 2,
       "version_minor": 0
      },
      "text/plain": [
       "Upload 136 LFS files:   0%|          | 0/136 [00:00<?, ?it/s]"
      ]
     },
     "metadata": {},
     "output_type": "display_data"
    },
    {
     "data": {
      "application/vnd.jupyter.widget-view+json": {
       "model_id": "5bad8532213e49afbfcc7855de031322",
       "version_major": 2,
       "version_minor": 0
      },
      "text/plain": [
       "A Clockwork Ley-Line - Daybreak of Remnants Shadow.tar:   0%|          | 0.00/2.84M [00:00<?, ?B/s]"
      ]
     },
     "metadata": {},
     "output_type": "display_data"
    },
    {
     "data": {
      "application/vnd.jupyter.widget-view+json": {
       "model_id": "883f0a049403440fa13f4dd7fd0b394f",
       "version_major": 2,
       "version_minor": 0
      },
      "text/plain": [
       "A Clockwork Ley-Line - Flowers Falling in the Morning Mis.tar:   0%|          | 0.00/2.62M [00:00<?, ?B/s]"
      ]
     },
     "metadata": {},
     "output_type": "display_data"
    },
    {
     "data": {
      "application/vnd.jupyter.widget-view+json": {
       "model_id": "d1b3e88a412544f78f411d9c640aa2de",
       "version_major": 2,
       "version_minor": 0
      },
      "text/plain": [
       "A Clockwork Ley-Line - The Borderline of Dusk.tar:   0%|          | 0.00/2.32M [00:00<?, ?B/s]"
      ]
     },
     "metadata": {},
     "output_type": "display_data"
    },
    {
     "data": {
      "application/vnd.jupyter.widget-view+json": {
       "model_id": "24735a11182a44f6b9149b9daa226fac",
       "version_major": 2,
       "version_minor": 0
      },
      "text/plain": [
       "A Kiss for The Petals Maidens of Michael.tar:   0%|          | 0.00/2.45M [00:00<?, ?B/s]"
      ]
     },
     "metadata": {},
     "output_type": "display_data"
    },
    {
     "data": {
      "application/vnd.jupyter.widget-view+json": {
       "model_id": "2fb22c04e3b14f7a9d00c9985fd996fa",
       "version_major": 2,
       "version_minor": 0
      },
      "text/plain": [
       "A Kiss for The Petals Remembering How We Me.tar:   0%|          | 0.00/317k [00:00<?, ?B/s]"
      ]
     },
     "metadata": {},
     "output_type": "display_data"
    },
    {
     "data": {
      "application/vnd.jupyter.widget-view+json": {
       "model_id": "d49c5d447569472d90e836d05a25a873",
       "version_major": 2,
       "version_minor": 0
      },
      "text/plain": [
       "A Summer's End Hong Kong 1986.tar:   0%|          | 0.00/604k [00:00<?, ?B/s]"
      ]
     },
     "metadata": {},
     "output_type": "display_data"
    },
    {
     "data": {
      "application/vnd.jupyter.widget-view+json": {
       "model_id": "e3797031c17e4f9293cdeb3cf02097da",
       "version_major": 2,
       "version_minor": 0
      },
      "text/plain": [
       "Academy34.tar:   0%|          | 0.00/1.84M [00:00<?, ?B/s]"
      ]
     },
     "metadata": {},
     "output_type": "display_data"
    },
    {
     "data": {
      "application/vnd.jupyter.widget-view+json": {
       "model_id": "3a84370444ce440681112a1ba7224814",
       "version_major": 2,
       "version_minor": 0
      },
      "text/plain": [
       "AIR.tar:   0%|          | 0.00/4.34M [00:00<?, ?B/s]"
      ]
     },
     "metadata": {},
     "output_type": "display_data"
    },
    {
     "data": {
      "application/vnd.jupyter.widget-view+json": {
       "model_id": "d44013bc07e346ed9e3ccdc04d518192",
       "version_major": 2,
       "version_minor": 0
      },
      "text/plain": [
       "Amatarasu Riddle Star.tar:   0%|          | 0.00/5.37M [00:00<?, ?B/s]"
      ]
     },
     "metadata": {},
     "output_type": "display_data"
    },
    {
     "data": {
      "application/vnd.jupyter.widget-view+json": {
       "model_id": "faa2772bebc744ce8bbd936e226315b3",
       "version_major": 2,
       "version_minor": 0
      },
      "text/plain": [
       "Aokana - Four Rhythms Across the Blue.tar:   0%|          | 0.00/6.34M [00:00<?, ?B/s]"
      ]
     },
     "metadata": {},
     "output_type": "display_data"
    },
    {
     "data": {
      "application/vnd.jupyter.widget-view+json": {
       "model_id": "f4040719c7264cccbd0f4d787425ed1f",
       "version_major": 2,
       "version_minor": 0
      },
      "text/plain": [
       "Arknights.tar:   0%|          | 0.00/1.54M [00:00<?, ?B/s]"
      ]
     },
     "metadata": {},
     "output_type": "display_data"
    },
    {
     "data": {
      "application/vnd.jupyter.widget-view+json": {
       "model_id": "1d152720866b44ce96d52157e82ea8c7",
       "version_major": 2,
       "version_minor": 0
      },
      "text/plain": [
       "Blackberry Honey.tar:   0%|          | 0.00/1.30M [00:00<?, ?B/s]"
      ]
     },
     "metadata": {},
     "output_type": "display_data"
    },
    {
     "data": {
      "application/vnd.jupyter.widget-view+json": {
       "model_id": "081b91db75914b05929c663ad8904352",
       "version_major": 2,
       "version_minor": 0
      },
      "text/plain": [
       "Bokuten - Why I Became an Angel.tar:   0%|          | 0.00/4.50M [00:00<?, ?B/s]"
      ]
     },
     "metadata": {},
     "output_type": "display_data"
    },
    {
     "data": {
      "application/vnd.jupyter.widget-view+json": {
       "model_id": "4d2419c12166452a8da9589054a35cbc",
       "version_major": 2,
       "version_minor": 0
      },
      "text/plain": [
       "Chasing Tails A Promise In The Snow.tar:   0%|          | 0.00/471k [00:00<?, ?B/s]"
      ]
     },
     "metadata": {},
     "output_type": "display_data"
    },
    {
     "data": {
      "application/vnd.jupyter.widget-view+json": {
       "model_id": "dafe2e5e5d2244519cb83a78a6a90199",
       "version_major": 2,
       "version_minor": 0
      },
      "text/plain": [
       "Cho Dengeki Stryker.tar:   0%|          | 0.00/3.38M [00:00<?, ?B/s]"
      ]
     },
     "metadata": {},
     "output_type": "display_data"
    },
    {
     "data": {
      "application/vnd.jupyter.widget-view+json": {
       "model_id": "7b427530c5f2493a803e6177370b3c35",
       "version_major": 2,
       "version_minor": 0
      },
      "text/plain": [
       "CLANNAD.tar:   0%|          | 0.00/10.4M [00:00<?, ?B/s]"
      ]
     },
     "metadata": {},
     "output_type": "display_data"
    },
    {
     "data": {
      "application/vnd.jupyter.widget-view+json": {
       "model_id": "57b0d50dc49e4f749fa8318ce03ae688",
       "version_major": 2,
       "version_minor": 0
      },
      "text/plain": [
       "Comyu - Kuroi Ryuu to Yasashii Oukoku.tar:   0%|          | 0.00/7.41M [00:00<?, ?B/s]"
      ]
     },
     "metadata": {},
     "output_type": "display_data"
    },
    {
     "data": {
      "application/vnd.jupyter.widget-view+json": {
       "model_id": "6707c0d03f8044aa860156d5ea7eb962",
       "version_major": 2,
       "version_minor": 0
      },
      "text/plain": [
       "Cross Worlds.tar:   0%|          | 0.00/379k [00:00<?, ?B/s]"
      ]
     },
     "metadata": {},
     "output_type": "display_data"
    },
    {
     "data": {
      "application/vnd.jupyter.widget-view+json": {
       "model_id": "1f995f527c1f4309ba2878b8462af2c1",
       "version_major": 2,
       "version_minor": 0
      },
      "text/plain": [
       "CrossChannel.tar:   0%|          | 0.00/3.93M [00:00<?, ?B/s]"
      ]
     },
     "metadata": {},
     "output_type": "display_data"
    },
    {
     "data": {
      "application/vnd.jupyter.widget-view+json": {
       "model_id": "0b02796ecdcf4c8f8648d54fec48179f",
       "version_major": 2,
       "version_minor": 0
      },
      "text/plain": [
       "Daitoshokan no Hitsujikai.tar:   0%|          | 0.00/7.86M [00:00<?, ?B/s]"
      ]
     },
     "metadata": {},
     "output_type": "display_data"
    },
    {
     "data": {
      "application/vnd.jupyter.widget-view+json": {
       "model_id": "57b4b7f3dd2d4f6ba7b424eac3c1b111",
       "version_major": 2,
       "version_minor": 0
      },
      "text/plain": [
       "Dawn Of Malice.tar:   0%|          | 0.00/92.2k [00:00<?, ?B/s]"
      ]
     },
     "metadata": {},
     "output_type": "display_data"
    },
    {
     "data": {
      "application/vnd.jupyter.widget-view+json": {
       "model_id": "874d363af69042f1b5b86725c77ff85a",
       "version_major": 2,
       "version_minor": 0
      },
      "text/plain": [
       "Dies Irae - Acta Est Fabula.tar:   0%|          | 0.00/10.7M [00:00<?, ?B/s]"
      ]
     },
     "metadata": {},
     "output_type": "display_data"
    },
    {
     "data": {
      "application/vnd.jupyter.widget-view+json": {
       "model_id": "29168760f57741b990f7fe462feeb61a",
       "version_major": 2,
       "version_minor": 0
      },
      "text/plain": [
       "Doki Doki Literature Club.tar:   0%|          | 0.00/758k [00:00<?, ?B/s]"
      ]
     },
     "metadata": {},
     "output_type": "display_data"
    },
    {
     "data": {
      "application/vnd.jupyter.widget-view+json": {
       "model_id": "29c30ce81e5549709fde6e531e9af9ad",
       "version_major": 2,
       "version_minor": 0
      },
      "text/plain": [
       "DRACU-RIOT!.tar:   0%|          | 0.00/4.41M [00:00<?, ?B/s]"
      ]
     },
     "metadata": {},
     "output_type": "display_data"
    },
    {
     "data": {
      "application/vnd.jupyter.widget-view+json": {
       "model_id": "3ce0c93dde064348973fc4021583748b",
       "version_major": 2,
       "version_minor": 0
      },
      "text/plain": [
       "DRAMAtical Murder.tar:   0%|          | 0.00/2.37M [00:00<?, ?B/s]"
      ]
     },
     "metadata": {},
     "output_type": "display_data"
    },
    {
     "data": {
      "application/vnd.jupyter.widget-view+json": {
       "model_id": "a6cb1e2dc0c449feb0f95c570351559b",
       "version_major": 2,
       "version_minor": 0
      },
      "text/plain": [
       "Driven Affairs.tar:   0%|          | 0.00/1.01M [00:00<?, ?B/s]"
      ]
     },
     "metadata": {},
     "output_type": "display_data"
    },
    {
     "data": {
      "application/vnd.jupyter.widget-view+json": {
       "model_id": "8a1c1dcb2bd74aff9856da4cb118e22a",
       "version_major": 2,
       "version_minor": 0
      },
      "text/plain": [
       "Elfheim.tar:   0%|          | 0.00/266k [00:00<?, ?B/s]"
      ]
     },
     "metadata": {},
     "output_type": "display_data"
    },
    {
     "data": {
      "application/vnd.jupyter.widget-view+json": {
       "model_id": "13a3cfe8d2e0442dabf26cb90c75aee5",
       "version_major": 2,
       "version_minor": 0
      },
      "text/plain": [
       "Eroge! ~H mo Game mo Kaihatsu Zanmai~.tar:   0%|          | 0.00/3.65M [00:00<?, ?B/s]"
      ]
     },
     "metadata": {},
     "output_type": "display_data"
    },
    {
     "data": {
      "application/vnd.jupyter.widget-view+json": {
       "model_id": "9e23946e74f24b5ba57f0081c8c7d506",
       "version_major": 2,
       "version_minor": 0
      },
      "text/plain": [
       "Euphoria.tar:   0%|          | 0.00/2.75M [00:00<?, ?B/s]"
      ]
     },
     "metadata": {},
     "output_type": "display_data"
    },
    {
     "data": {
      "application/vnd.jupyter.widget-view+json": {
       "model_id": "234f6a170a034d6bbfe661a8e4adadd4",
       "version_major": 2,
       "version_minor": 0
      },
      "text/plain": [
       "Everlasting Summer.tar:   0%|          | 0.00/3.14M [00:00<?, ?B/s]"
      ]
     },
     "metadata": {},
     "output_type": "display_data"
    },
    {
     "data": {
      "application/vnd.jupyter.widget-view+json": {
       "model_id": "41ca30160b9246a0a107ec89fb199b02",
       "version_major": 2,
       "version_minor": 0
      },
      "text/plain": [
       "Fashioning Little Miss Lonesome (FLML).tar:   0%|          | 0.00/1.68M [00:00<?, ?B/s]"
      ]
     },
     "metadata": {},
     "output_type": "display_data"
    },
    {
     "data": {
      "application/vnd.jupyter.widget-view+json": {
       "model_id": "6f52241dc6bc42b7b0b62424a0d470e0",
       "version_major": 2,
       "version_minor": 0
      },
      "text/plain": [
       "Fatal Twelve.tar:   0%|          | 0.00/2.94M [00:00<?, ?B/s]"
      ]
     },
     "metadata": {},
     "output_type": "display_data"
    },
    {
     "data": {
      "application/vnd.jupyter.widget-view+json": {
       "model_id": "22ffb8b53f7c4efb984351c4cc8b37cd",
       "version_major": 2,
       "version_minor": 0
      },
      "text/plain": [
       "Fault milestone one.tar:   0%|          | 0.00/788k [00:00<?, ?B/s]"
      ]
     },
     "metadata": {},
     "output_type": "display_data"
    },
    {
     "data": {
      "application/vnd.jupyter.widget-view+json": {
       "model_id": "1b168d9e8ea34ddabc92d3a5bb23d96f",
       "version_major": 2,
       "version_minor": 0
      },
      "text/plain": [
       "Fault milestone two sidea;bove.tar:   0%|          | 0.00/891k [00:00<?, ?B/s]"
      ]
     },
     "metadata": {},
     "output_type": "display_data"
    },
    {
     "data": {
      "application/vnd.jupyter.widget-view+json": {
       "model_id": "c07b57093014431599f355799b86ca2f",
       "version_major": 2,
       "version_minor": 0
      },
      "text/plain": [
       "Fxxx Me Royally!! Horny Magical Princess (Himetai).tar:   0%|          | 0.00/2.37M [00:00<?, ?B/s]"
      ]
     },
     "metadata": {},
     "output_type": "display_data"
    },
    {
     "data": {
      "application/vnd.jupyter.widget-view+json": {
       "model_id": "b6a05345a29f4f66896a30fad6b81a28",
       "version_major": 2,
       "version_minor": 0
      },
      "text/plain": [
       "Gaikokujin no Sensei.tar:   0%|          | 0.00/1.60M [00:00<?, ?B/s]"
      ]
     },
     "metadata": {},
     "output_type": "display_data"
    },
    {
     "data": {
      "application/vnd.jupyter.widget-view+json": {
       "model_id": "971e02a4adf4406c8fa69fea28c267dd",
       "version_major": 2,
       "version_minor": 0
      },
      "text/plain": [
       "Girls Frontline (Extras).tar:   0%|          | 0.00/10.2k [00:00<?, ?B/s]"
      ]
     },
     "metadata": {},
     "output_type": "display_data"
    },
    {
     "data": {
      "application/vnd.jupyter.widget-view+json": {
       "model_id": "c3ca6ce4c57b4d26bdcd547f789d4d38",
       "version_major": 2,
       "version_minor": 0
      },
      "text/plain": [
       "Girls Frontline.tar:   0%|          | 0.00/10.2k [00:00<?, ?B/s]"
      ]
     },
     "metadata": {},
     "output_type": "display_data"
    },
    {
     "data": {
      "application/vnd.jupyter.widget-view+json": {
       "model_id": "cf9029d28fb44dffa55e4c24575cff50",
       "version_major": 2,
       "version_minor": 0
      },
      "text/plain": [
       "Heart of the Woods.tar:   0%|          | 0.00/1.37M [00:00<?, ?B/s]"
      ]
     },
     "metadata": {},
     "output_type": "display_data"
    },
    {
     "data": {
      "application/vnd.jupyter.widget-view+json": {
       "model_id": "e638fdfd427545c09c020e0a5cc88ce9",
       "version_major": 2,
       "version_minor": 0
      },
      "text/plain": [
       "Highway Blossoms.tar:   0%|          | 0.00/983k [00:00<?, ?B/s]"
      ]
     },
     "metadata": {},
     "output_type": "display_data"
    },
    {
     "data": {
      "application/vnd.jupyter.widget-view+json": {
       "model_id": "b57d28e961174151b319f4015d79bd3b",
       "version_major": 2,
       "version_minor": 0
      },
      "text/plain": [
       "Himawari -The Sunflower-.tar:   0%|          | 0.00/6.45M [00:00<?, ?B/s]"
      ]
     },
     "metadata": {},
     "output_type": "display_data"
    },
    {
     "data": {
      "application/vnd.jupyter.widget-view+json": {
       "model_id": "75469b85d34a43aebf717f75313db4a1",
       "version_major": 2,
       "version_minor": 0
      },
      "text/plain": [
       "Hoshizora no Memoria -Eternal Heart-.tar:   0%|          | 0.00/1.93M [00:00<?, ?B/s]"
      ]
     },
     "metadata": {},
     "output_type": "display_data"
    },
    {
     "data": {
      "application/vnd.jupyter.widget-view+json": {
       "model_id": "59163a510a154a2b94b8b26a2e68220f",
       "version_major": 2,
       "version_minor": 0
      },
      "text/plain": [
       "Hoshizora no Memoria -Wish Upon a Shooting Star-.tar:   0%|          | 0.00/7.46M [00:00<?, ?B/s]"
      ]
     },
     "metadata": {},
     "output_type": "display_data"
    },
    {
     "data": {
      "application/vnd.jupyter.widget-view+json": {
       "model_id": "a6f13e0b074647f6892b6d4e29037a95",
       "version_major": 2,
       "version_minor": 0
      },
      "text/plain": [
       "Ikinari Anata ni Koishiteiru.tar:   0%|          | 0.00/2.87M [00:00<?, ?B/s]"
      ]
     },
     "metadata": {},
     "output_type": "display_data"
    },
    {
     "data": {
      "application/vnd.jupyter.widget-view+json": {
       "model_id": "88081d5c99044632bdd93ff46dd5c1c6",
       "version_major": 2,
       "version_minor": 0
      },
      "text/plain": [
       "Island Diary.tar:   0%|          | 0.00/625k [00:00<?, ?B/s]"
      ]
     },
     "metadata": {},
     "output_type": "display_data"
    },
    {
     "data": {
      "application/vnd.jupyter.widget-view+json": {
       "model_id": "62f69acb84794c3785cfa71bd1353057",
       "version_major": 2,
       "version_minor": 0
      },
      "text/plain": [
       "Juicy Futa.tar:   0%|          | 0.00/379k [00:00<?, ?B/s]"
      ]
     },
     "metadata": {},
     "output_type": "display_data"
    },
    {
     "data": {
      "application/vnd.jupyter.widget-view+json": {
       "model_id": "1e761337a1394536adb5d0855235344a",
       "version_major": 2,
       "version_minor": 0
      },
      "text/plain": [
       "Kara no Shoujo - The Second Episode.tar:   0%|          | 0.00/4.58M [00:00<?, ?B/s]"
      ]
     },
     "metadata": {},
     "output_type": "display_data"
    },
    {
     "data": {
      "application/vnd.jupyter.widget-view+json": {
       "model_id": "0261f5ab629f4d89be4c41e416f8a376",
       "version_major": 2,
       "version_minor": 0
      },
      "text/plain": [
       "KARAKARA 2.tar:   0%|          | 0.00/492k [00:00<?, ?B/s]"
      ]
     },
     "metadata": {},
     "output_type": "display_data"
    },
    {
     "data": {
      "application/vnd.jupyter.widget-view+json": {
       "model_id": "ba306c0eaaaf400b904bfa63b49addee",
       "version_major": 2,
       "version_minor": 0
      },
      "text/plain": [
       "KARAKARA.tar:   0%|          | 0.00/410k [00:00<?, ?B/s]"
      ]
     },
     "metadata": {},
     "output_type": "display_data"
    },
    {
     "data": {
      "application/vnd.jupyter.widget-view+json": {
       "model_id": "6017a3f271d541f5943ec4e6f8ddbfe9",
       "version_major": 2,
       "version_minor": 0
      },
      "text/plain": [
       "Katawa Shoujo.tar:   0%|          | 0.00/5.88M [00:00<?, ?B/s]"
      ]
     },
     "metadata": {},
     "output_type": "display_data"
    },
    {
     "data": {
      "application/vnd.jupyter.widget-view+json": {
       "model_id": "d831ac32f4344647abf4b9dcfa19d487",
       "version_major": 2,
       "version_minor": 0
      },
      "text/plain": [
       "Kindred Spirits On The Roof.tar:   0%|          | 0.00/4.17M [00:00<?, ?B/s]"
      ]
     },
     "metadata": {},
     "output_type": "display_data"
    },
    {
     "data": {
      "application/vnd.jupyter.widget-view+json": {
       "model_id": "ab3016432dd345f98627910d66abe377",
       "version_major": 2,
       "version_minor": 0
      },
      "text/plain": [
       "Kinkoi - Golden Loveriche (Kin'iro Loveriche).tar:   0%|          | 0.00/7.09M [00:00<?, ?B/s]"
      ]
     },
     "metadata": {},
     "output_type": "display_data"
    },
    {
     "data": {
      "application/vnd.jupyter.widget-view+json": {
       "model_id": "fedb3031374447529b821f6e6e955571",
       "version_major": 2,
       "version_minor": 0
      },
      "text/plain": [
       "Koi to Senkyo to Chocolate.tar:   0%|          | 0.00/4.68M [00:00<?, ?B/s]"
      ]
     },
     "metadata": {},
     "output_type": "display_data"
    },
    {
     "data": {
      "application/vnd.jupyter.widget-view+json": {
       "model_id": "5f499aeb140f40d589e40e244bdd631c",
       "version_major": 2,
       "version_minor": 0
      },
      "text/plain": [
       "Libra of the Vampire Princess (Kyuuketsuki no Libra).tar:   0%|          | 0.00/3.62M [00:00<?, ?B/s]"
      ]
     },
     "metadata": {},
     "output_type": "display_data"
    },
    {
     "data": {
      "application/vnd.jupyter.widget-view+json": {
       "model_id": "1560cec754be4ba285ee52b8ed5192b9",
       "version_major": 2,
       "version_minor": 0
      },
      "text/plain": [
       "Little Busters!.tar:   0%|          | 0.00/9.80M [00:00<?, ?B/s]"
      ]
     },
     "metadata": {},
     "output_type": "display_data"
    },
    {
     "data": {
      "application/vnd.jupyter.widget-view+json": {
       "model_id": "fd4bb11948ff40f4bd77fb2c8c78013d",
       "version_major": 2,
       "version_minor": 0
      },
      "text/plain": [
       "Love At First Sigh.tar:   0%|          | 0.00/440k [00:00<?, ?B/s]"
      ]
     },
     "metadata": {},
     "output_type": "display_data"
    },
    {
     "data": {
      "application/vnd.jupyter.widget-view+json": {
       "model_id": "89da9a60555a43148ff67294baaee548",
       "version_major": 2,
       "version_minor": 0
      },
      "text/plain": [
       "Love Ribbon.tar:   0%|          | 0.00/768k [00:00<?, ?B/s]"
      ]
     },
     "metadata": {},
     "output_type": "display_data"
    },
    {
     "data": {
      "application/vnd.jupyter.widget-view+json": {
       "model_id": "4db5a14875024c1cafa15b1cf27ad9b5",
       "version_major": 2,
       "version_minor": 0
      },
      "text/plain": [
       "Lust Legacy.tar:   0%|          | 0.00/256k [00:00<?, ?B/s]"
      ]
     },
     "metadata": {},
     "output_type": "display_data"
    },
    {
     "data": {
      "application/vnd.jupyter.widget-view+json": {
       "model_id": "87b4c801b37c4ac5a79757301b487be7",
       "version_major": 2,
       "version_minor": 0
      },
      "text/plain": [
       "Maitetsu.tar:   0%|          | 0.00/4.56M [00:00<?, ?B/s]"
      ]
     },
     "metadata": {},
     "output_type": "display_data"
    },
    {
     "data": {
      "application/vnd.jupyter.widget-view+json": {
       "model_id": "b7aff7a8043e4f518916342ca4944865",
       "version_major": 2,
       "version_minor": 0
      },
      "text/plain": [
       "Majikoi! Love Me Seriously!.tar:   0%|          | 0.00/10.5M [00:00<?, ?B/s]"
      ]
     },
     "metadata": {},
     "output_type": "display_data"
    },
    {
     "data": {
      "application/vnd.jupyter.widget-view+json": {
       "model_id": "14563ceb0d0b4db48320ed88b685f715",
       "version_major": 2,
       "version_minor": 0
      },
      "text/plain": [
       "Master Magistrate (Ouka Sabaki).tar:   0%|          | 0.00/2.09M [00:00<?, ?B/s]"
      ]
     },
     "metadata": {},
     "output_type": "display_data"
    },
    {
     "data": {
      "application/vnd.jupyter.widget-view+json": {
       "model_id": "c76b7f7412b94f56955186d8a4bb273f",
       "version_major": 2,
       "version_minor": 0
      },
      "text/plain": [
       "MonsterGirlQues.tar:   0%|          | 0.00/12.9M [00:00<?, ?B/s]"
      ]
     },
     "metadata": {},
     "output_type": "display_data"
    },
    {
     "data": {
      "application/vnd.jupyter.widget-view+json": {
       "model_id": "2300a3b93b83424b895adc8fe5f10040",
       "version_major": 2,
       "version_minor": 0
      },
      "text/plain": [
       "Muv Luv Alternative.tar:   0%|          | 0.00/7.06M [00:00<?, ?B/s]"
      ]
     },
     "metadata": {},
     "output_type": "display_data"
    },
    {
     "data": {
      "application/vnd.jupyter.widget-view+json": {
       "model_id": "2d03b04c067f44729501afc900421e60",
       "version_major": 2,
       "version_minor": 0
      },
      "text/plain": [
       "Muv Luv Extra.tar:   0%|          | 0.00/3.67M [00:00<?, ?B/s]"
      ]
     },
     "metadata": {},
     "output_type": "display_data"
    },
    {
     "data": {
      "application/vnd.jupyter.widget-view+json": {
       "model_id": "8b71507eb4724638a6150f675e719da7",
       "version_major": 2,
       "version_minor": 0
      },
      "text/plain": [
       "Muv Luv Unlimited.tar:   0%|          | 0.00/2.98M [00:00<?, ?B/s]"
      ]
     },
     "metadata": {},
     "output_type": "display_data"
    },
    {
     "data": {
      "application/vnd.jupyter.widget-view+json": {
       "model_id": "d31cf6da1448447abfbf45a68492de2f",
       "version_major": 2,
       "version_minor": 0
      },
      "text/plain": [
       "My Catgirl Maid Thinks She Runs The Place.tar:   0%|          | 0.00/1.14M [00:00<?, ?B/s]"
      ]
     },
     "metadata": {},
     "output_type": "display_data"
    },
    {
     "data": {
      "application/vnd.jupyter.widget-view+json": {
       "model_id": "989a140f689344b6b3375637b6669430",
       "version_major": 2,
       "version_minor": 0
      },
      "text/plain": [
       "My Girlfriend is the Presiden.tar:   0%|          | 0.00/3.96M [00:00<?, ?B/s]"
      ]
     },
     "metadata": {},
     "output_type": "display_data"
    },
    {
     "data": {
      "application/vnd.jupyter.widget-view+json": {
       "model_id": "01e6ee34089f43b780e40970d1e35c21",
       "version_major": 2,
       "version_minor": 0
      },
      "text/plain": [
       "My Girlfriend is the President - Fandisk.tar:   0%|          | 0.00/1.16M [00:00<?, ?B/s]"
      ]
     },
     "metadata": {},
     "output_type": "display_data"
    },
    {
     "data": {
      "application/vnd.jupyter.widget-view+json": {
       "model_id": "cda32b015a7340b280ff7f8b8fa65d23",
       "version_major": 2,
       "version_minor": 0
      },
      "text/plain": [
       "Nanairo Reincarnation.tar:   0%|          | 0.00/4.60M [00:00<?, ?B/s]"
      ]
     },
     "metadata": {},
     "output_type": "display_data"
    },
    {
     "data": {
      "application/vnd.jupyter.widget-view+json": {
       "model_id": "0059792f1b2a4fc29d81b55bf1472f52",
       "version_major": 2,
       "version_minor": 0
      },
      "text/plain": [
       "Neko Para Extra.tar:   0%|          | 0.00/143k [00:00<?, ?B/s]"
      ]
     },
     "metadata": {},
     "output_type": "display_data"
    },
    {
     "data": {
      "application/vnd.jupyter.widget-view+json": {
       "model_id": "0b88612b1f9d4a41a3e99ff75fd96dfd",
       "version_major": 2,
       "version_minor": 0
      },
      "text/plain": [
       "Neko Para Vol.0.tar:   0%|          | 0.00/71.7k [00:00<?, ?B/s]"
      ]
     },
     "metadata": {},
     "output_type": "display_data"
    },
    {
     "data": {
      "application/vnd.jupyter.widget-view+json": {
       "model_id": "e6157641648e4412baa6ba2df4105012",
       "version_major": 2,
       "version_minor": 0
      },
      "text/plain": [
       "Neko Para Vol.1.tar:   0%|          | 0.00/635k [00:00<?, ?B/s]"
      ]
     },
     "metadata": {},
     "output_type": "display_data"
    },
    {
     "data": {
      "application/vnd.jupyter.widget-view+json": {
       "model_id": "ee11734cdec449e0b8964d8b2bcdea87",
       "version_major": 2,
       "version_minor": 0
      },
      "text/plain": [
       "Neko Para Vol.2.tar:   0%|          | 0.00/532k [00:00<?, ?B/s]"
      ]
     },
     "metadata": {},
     "output_type": "display_data"
    },
    {
     "data": {
      "application/vnd.jupyter.widget-view+json": {
       "model_id": "1f67f563b2de487db9f3459173236d60",
       "version_major": 2,
       "version_minor": 0
      },
      "text/plain": [
       "Neko Para Vol.3.tar:   0%|          | 0.00/604k [00:00<?, ?B/s]"
      ]
     },
     "metadata": {},
     "output_type": "display_data"
    },
    {
     "data": {
      "application/vnd.jupyter.widget-view+json": {
       "model_id": "5eac6d158a934330b297b906808107e7",
       "version_major": 2,
       "version_minor": 0
      },
      "text/plain": [
       "Neko Para Vol.4.tar:   0%|          | 0.00/625k [00:00<?, ?B/s]"
      ]
     },
     "metadata": {},
     "output_type": "display_data"
    },
    {
     "data": {
      "application/vnd.jupyter.widget-view+json": {
       "model_id": "28a638511d374744aec151c8b2acfe43",
       "version_major": 2,
       "version_minor": 0
      },
      "text/plain": [
       "Night Lessons.tar:   0%|          | 0.00/1.13M [00:00<?, ?B/s]"
      ]
     },
     "metadata": {},
     "output_type": "display_data"
    },
    {
     "data": {
      "application/vnd.jupyter.widget-view+json": {
       "model_id": "a51c2577e61e43909fabe4e7814b0bf2",
       "version_major": 2,
       "version_minor": 0
      },
      "text/plain": [
       "Nurse Love Addiction.tar:   0%|          | 0.00/2.12M [00:00<?, ?B/s]"
      ]
     },
     "metadata": {},
     "output_type": "display_data"
    },
    {
     "data": {
      "application/vnd.jupyter.widget-view+json": {
       "model_id": "e865bbac95b74eebb92e90636398a178",
       "version_major": 2,
       "version_minor": 0
      },
      "text/plain": [
       "Nurse Love Syndrome.tar:   0%|          | 0.00/3.53M [00:00<?, ?B/s]"
      ]
     },
     "metadata": {},
     "output_type": "display_data"
    },
    {
     "data": {
      "application/vnd.jupyter.widget-view+json": {
       "model_id": "f31ec54b04fb42138d4196a35a7ad014",
       "version_major": 2,
       "version_minor": 0
      },
      "text/plain": [
       "Onii-chan, Kiss no Junbi wa Mada Desu ka_.tar:   0%|          | 0.00/1.73M [00:00<?, ?B/s]"
      ]
     },
     "metadata": {},
     "output_type": "display_data"
    },
    {
     "data": {
      "application/vnd.jupyter.widget-view+json": {
       "model_id": "b7a3c3e98ee145f6b20dfcf1902184b3",
       "version_major": 2,
       "version_minor": 0
      },
      "text/plain": [
       "Pirates - Golden Tits.tar:   0%|          | 0.00/748k [00:00<?, ?B/s]"
      ]
     },
     "metadata": {},
     "output_type": "display_data"
    },
    {
     "data": {
      "application/vnd.jupyter.widget-view+json": {
       "model_id": "b25969ebe78a49c6ba2cd7fb0530b201",
       "version_major": 2,
       "version_minor": 0
      },
      "text/plain": [
       "Prince Of Suburbia.tar:   0%|          | 0.00/430k [00:00<?, ?B/s]"
      ]
     },
     "metadata": {},
     "output_type": "display_data"
    },
    {
     "data": {
      "application/vnd.jupyter.widget-view+json": {
       "model_id": "59f58f270f1c4b29bdd9b2971c0e965a",
       "version_major": 2,
       "version_minor": 0
      },
      "text/plain": [
       "Project Possible.tar:   0%|          | 0.00/1.72M [00:00<?, ?B/s]"
      ]
     },
     "metadata": {},
     "output_type": "display_data"
    },
    {
     "data": {
      "application/vnd.jupyter.widget-view+json": {
       "model_id": "f96e573bbd0c4cd48f92afeedbaacaa8",
       "version_major": 2,
       "version_minor": 0
      },
      "text/plain": [
       "README.md.tar:   0%|          | 0.00/10.2k [00:00<?, ?B/s]"
      ]
     },
     "metadata": {},
     "output_type": "display_data"
    },
    {
     "data": {
      "application/vnd.jupyter.widget-view+json": {
       "model_id": "fe6293f6ba8c4186801ddf66b469818e",
       "version_major": 2,
       "version_minor": 0
      },
      "text/plain": [
       "REFLEXIA Prototype ver.tar:   0%|          | 0.00/92.2k [00:00<?, ?B/s]"
      ]
     },
     "metadata": {},
     "output_type": "display_data"
    },
    {
     "data": {
      "application/vnd.jupyter.widget-view+json": {
       "model_id": "d63709c3a7764acd865a1560c7060a67",
       "version_major": 2,
       "version_minor": 0
      },
      "text/plain": [
       "Rewrite.tar:   0%|          | 0.00/11.0M [00:00<?, ?B/s]"
      ]
     },
     "metadata": {},
     "output_type": "display_data"
    },
    {
     "data": {
      "application/vnd.jupyter.widget-view+json": {
       "model_id": "17a7dab52c4b497e9c94d7b20c466c64",
       "version_major": 2,
       "version_minor": 0
      },
      "text/plain": [
       "RIDDLE JOKER.tar:   0%|          | 0.00/3.34M [00:00<?, ?B/s]"
      ]
     },
     "metadata": {},
     "output_type": "display_data"
    },
    {
     "data": {
      "application/vnd.jupyter.widget-view+json": {
       "model_id": "093adf0c33a841a99dec84dee1711724",
       "version_major": 2,
       "version_minor": 0
      },
      "text/plain": [
       "Sabbat of the Witch (Sanoba Witch).tar:   0%|          | 0.00/4.13M [00:00<?, ?B/s]"
      ]
     },
     "metadata": {},
     "output_type": "display_data"
    },
    {
     "data": {
      "application/vnd.jupyter.widget-view+json": {
       "model_id": "7d4a2f09c23c4c72a069e0fc8a090b76",
       "version_major": 2,
       "version_minor": 0
      },
      "text/plain": [
       "Saku Saku (Koi ga Saku Koro Sakura Doki).tar:   0%|          | 0.00/6.62M [00:00<?, ?B/s]"
      ]
     },
     "metadata": {},
     "output_type": "display_data"
    },
    {
     "data": {
      "application/vnd.jupyter.widget-view+json": {
       "model_id": "404910d052f44713ad77197bf0b3facf",
       "version_major": 2,
       "version_minor": 0
      },
      "text/plain": [
       "Sakura Alien 2.tar:   0%|          | 0.00/584k [00:00<?, ?B/s]"
      ]
     },
     "metadata": {},
     "output_type": "display_data"
    },
    {
     "data": {
      "application/vnd.jupyter.widget-view+json": {
       "model_id": "b2a0530a11e94ee8b3fee52678ad6cf6",
       "version_major": 2,
       "version_minor": 0
      },
      "text/plain": [
       "Sakura Alien.tar:   0%|          | 0.00/635k [00:00<?, ?B/s]"
      ]
     },
     "metadata": {},
     "output_type": "display_data"
    },
    {
     "data": {
      "application/vnd.jupyter.widget-view+json": {
       "model_id": "0ce6c1ef5408470eba65a23adcadc29e",
       "version_major": 2,
       "version_minor": 0
      },
      "text/plain": [
       "Sakura Dungeon.tar:   0%|          | 0.00/297k [00:00<?, ?B/s]"
      ]
     },
     "metadata": {},
     "output_type": "display_data"
    },
    {
     "data": {
      "application/vnd.jupyter.widget-view+json": {
       "model_id": "a146f582816f46419d972089d122128a",
       "version_major": 2,
       "version_minor": 0
      },
      "text/plain": [
       "Sakura Gym Girls.tar:   0%|          | 0.00/543k [00:00<?, ?B/s]"
      ]
     },
     "metadata": {},
     "output_type": "display_data"
    },
    {
     "data": {
      "application/vnd.jupyter.widget-view+json": {
       "model_id": "97540dfe6a1e447b8e36da22da737741",
       "version_major": 2,
       "version_minor": 0
      },
      "text/plain": [
       "Sakura Sadis.tar:   0%|          | 0.00/348k [00:00<?, ?B/s]"
      ]
     },
     "metadata": {},
     "output_type": "display_data"
    },
    {
     "data": {
      "application/vnd.jupyter.widget-view+json": {
       "model_id": "b7da37c8c1934d6c8c09fc389e1a4e4e",
       "version_major": 2,
       "version_minor": 0
      },
      "text/plain": [
       "Sakura Succubus 2.tar:   0%|          | 0.00/563k [00:00<?, ?B/s]"
      ]
     },
     "metadata": {},
     "output_type": "display_data"
    },
    {
     "data": {
      "application/vnd.jupyter.widget-view+json": {
       "model_id": "4e85a647dead4802b9848d15c6b49e3a",
       "version_major": 2,
       "version_minor": 0
      },
      "text/plain": [
       "Sakura Succubus 3.tar:   0%|          | 0.00/829k [00:00<?, ?B/s]"
      ]
     },
     "metadata": {},
     "output_type": "display_data"
    },
    {
     "data": {
      "application/vnd.jupyter.widget-view+json": {
       "model_id": "b4aa263a32b345f282844bdaef14591c",
       "version_major": 2,
       "version_minor": 0
      },
      "text/plain": [
       "Sakura Succubus 4.tar:   0%|          | 0.00/788k [00:00<?, ?B/s]"
      ]
     },
     "metadata": {},
     "output_type": "display_data"
    },
    {
     "data": {
      "application/vnd.jupyter.widget-view+json": {
       "model_id": "b7c362b55de4450cb6c45ed7e01dd4b2",
       "version_major": 2,
       "version_minor": 0
      },
      "text/plain": [
       "Sakura Succubus 5.tar:   0%|          | 0.00/625k [00:00<?, ?B/s]"
      ]
     },
     "metadata": {},
     "output_type": "display_data"
    },
    {
     "data": {
      "application/vnd.jupyter.widget-view+json": {
       "model_id": "6255c04bb9d149bead128aeb113696ab",
       "version_major": 2,
       "version_minor": 0
      },
      "text/plain": [
       "Sakura Succubus 6.tar:   0%|          | 0.00/594k [00:00<?, ?B/s]"
      ]
     },
     "metadata": {},
     "output_type": "display_data"
    },
    {
     "data": {
      "application/vnd.jupyter.widget-view+json": {
       "model_id": "b9481e38c80a48c4a3ad64bcc871cb5f",
       "version_major": 2,
       "version_minor": 0
      },
      "text/plain": [
       "Sakura Succubus.tar:   0%|          | 0.00/594k [00:00<?, ?B/s]"
      ]
     },
     "metadata": {},
     "output_type": "display_data"
    },
    {
     "data": {
      "application/vnd.jupyter.widget-view+json": {
       "model_id": "8da1b194ae244921ad8b58b2fe2b4685",
       "version_major": 2,
       "version_minor": 0
      },
      "text/plain": [
       "Saya no Uta.tar:   0%|          | 0.00/645k [00:00<?, ?B/s]"
      ]
     },
     "metadata": {},
     "output_type": "display_data"
    },
    {
     "data": {
      "application/vnd.jupyter.widget-view+json": {
       "model_id": "b77e30f4a3014e94845feeae3281a92f",
       "version_major": 2,
       "version_minor": 0
      },
      "text/plain": [
       "Seeds of Chaos.tar:   0%|          | 0.00/18.0M [00:00<?, ?B/s]"
      ]
     },
     "metadata": {},
     "output_type": "display_data"
    },
    {
     "data": {
      "application/vnd.jupyter.widget-view+json": {
       "model_id": "cfd208b07bc740f6b598ad04882e4010",
       "version_major": 2,
       "version_minor": 0
      },
      "text/plain": [
       "Senren Banka.tar:   0%|          | 0.00/4.47M [00:00<?, ?B/s]"
      ]
     },
     "metadata": {},
     "output_type": "display_data"
    },
    {
     "data": {
      "application/vnd.jupyter.widget-view+json": {
       "model_id": "f8969faafd764bb48abee2fb3bed1159",
       "version_major": 2,
       "version_minor": 0
      },
      "text/plain": [
       "Sharin no Kuni, Himawari no Shoujo.tar:   0%|          | 0.00/4.52M [00:00<?, ?B/s]"
      ]
     },
     "metadata": {},
     "output_type": "display_data"
    },
    {
     "data": {
      "application/vnd.jupyter.widget-view+json": {
       "model_id": "22e030eb77bc4dc2bd2f6538a19abaa2",
       "version_major": 2,
       "version_minor": 0
      },
      "text/plain": [
       "Sharin no Kuni, Yuukyuu no Shounenshoujo.tar:   0%|          | 0.00/3.14M [00:00<?, ?B/s]"
      ]
     },
     "metadata": {},
     "output_type": "display_data"
    },
    {
     "data": {
      "application/vnd.jupyter.widget-view+json": {
       "model_id": "d86ee368f14648a291bd4f7498982db1",
       "version_major": 2,
       "version_minor": 0
      },
      "text/plain": [
       "Shikkoku no Sharnoth ~What a beautiful tomorrow~.tar:   0%|          | 0.00/10.2k [00:00<?, ?B/s]"
      ]
     },
     "metadata": {},
     "output_type": "display_data"
    },
    {
     "data": {
      "application/vnd.jupyter.widget-view+json": {
       "model_id": "862b73e1944e49ddb26bf634c6242d22",
       "version_major": 2,
       "version_minor": 0
      },
      "text/plain": [
       "Shining Song Starnova.tar:   0%|          | 0.00/4.68M [00:00<?, ?B/s]"
      ]
     },
     "metadata": {},
     "output_type": "display_data"
    },
    {
     "data": {
      "application/vnd.jupyter.widget-view+json": {
       "model_id": "e40f583c976947b7b0d0ec00b1ae8491",
       "version_major": 2,
       "version_minor": 0
      },
      "text/plain": [
       "Sisterly Bliss (Tsui Yuri ~Okaa-san ni wa Naisho da yo~).tar:   0%|          | 0.00/932k [00:00<?, ?B/s]"
      ]
     },
     "metadata": {},
     "output_type": "display_data"
    },
    {
     "data": {
      "application/vnd.jupyter.widget-view+json": {
       "model_id": "4be9354356094eca91266cd4ec5bf60e",
       "version_major": 2,
       "version_minor": 0
      },
      "text/plain": [
       "Snow Daze.tar:   0%|          | 0.00/911k [00:00<?, ?B/s]"
      ]
     },
     "metadata": {},
     "output_type": "display_data"
    },
    {
     "data": {
      "application/vnd.jupyter.widget-view+json": {
       "model_id": "a295ea381c794c14b47c3d0dd5ac31fe",
       "version_major": 2,
       "version_minor": 0
      },
      "text/plain": [
       "Sorcery Jokers.tar:   0%|          | 0.00/4.87M [00:00<?, ?B/s]"
      ]
     },
     "metadata": {},
     "output_type": "display_data"
    },
    {
     "data": {
      "application/vnd.jupyter.widget-view+json": {
       "model_id": "6cc5ad7d70f64ad18e6f8f9caf1075da",
       "version_major": 2,
       "version_minor": 0
      },
      "text/plain": [
       "Sound of Drop.tar:   0%|          | 0.00/1.38M [00:00<?, ?B/s]"
      ]
     },
     "metadata": {},
     "output_type": "display_data"
    },
    {
     "data": {
      "application/vnd.jupyter.widget-view+json": {
       "model_id": "f143bacf9dfa44b9abffbd7d50fe020c",
       "version_major": 2,
       "version_minor": 0
      },
      "text/plain": [
       "Steins;Gate.tar:   0%|          | 0.00/3.77M [00:00<?, ?B/s]"
      ]
     },
     "metadata": {},
     "output_type": "display_data"
    },
    {
     "data": {
      "application/vnd.jupyter.widget-view+json": {
       "model_id": "0c025cba5e03430cb460a2f22d7e61de",
       "version_major": 2,
       "version_minor": 0
      },
      "text/plain": [
       "Steins;Gate0.tar:   0%|          | 0.00/2.95M [00:00<?, ?B/s]"
      ]
     },
     "metadata": {},
     "output_type": "display_data"
    },
    {
     "data": {
      "application/vnd.jupyter.widget-view+json": {
       "model_id": "7f394fca31a348e09245459652895576",
       "version_major": 2,
       "version_minor": 0
      },
      "text/plain": [
       "Sugar Style.tar:   0%|          | 0.00/4.82M [00:00<?, ?B/s]"
      ]
     },
     "metadata": {},
     "output_type": "display_data"
    },
    {
     "data": {
      "application/vnd.jupyter.widget-view+json": {
       "model_id": "1df943f9522d41d1b7b72e123c62dd55",
       "version_major": 2,
       "version_minor": 0
      },
      "text/plain": [
       "Sugar's Deligh.tar:   0%|          | 0.00/184k [00:00<?, ?B/s]"
      ]
     },
     "metadata": {},
     "output_type": "display_data"
    },
    {
     "data": {
      "application/vnd.jupyter.widget-view+json": {
       "model_id": "27a97b8af2344353b7c33243d162bbb9",
       "version_major": 2,
       "version_minor": 0
      },
      "text/plain": [
       "Swan Song.tar:   0%|          | 0.00/2.31M [00:00<?, ?B/s]"
      ]
     },
     "metadata": {},
     "output_type": "display_data"
    },
    {
     "data": {
      "application/vnd.jupyter.widget-view+json": {
       "model_id": "db852eb541d541a4a44d484f6005388e",
       "version_major": 2,
       "version_minor": 0
      },
      "text/plain": [
       "Tamas Awakening.tar:   0%|          | 0.00/1.15M [00:00<?, ?B/s]"
      ]
     },
     "metadata": {},
     "output_type": "display_data"
    },
    {
     "data": {
      "application/vnd.jupyter.widget-view+json": {
       "model_id": "4dedc5a252ee402e9d0eeeda1cb29add",
       "version_major": 2,
       "version_minor": 0
      },
      "text/plain": [
       "The Eden of Grisaia.tar:   0%|          | 0.00/4.31M [00:00<?, ?B/s]"
      ]
     },
     "metadata": {},
     "output_type": "display_data"
    },
    {
     "data": {
      "application/vnd.jupyter.widget-view+json": {
       "model_id": "5a6771cfdc21426b9243a1461c8e8070",
       "version_major": 2,
       "version_minor": 0
      },
      "text/plain": [
       "The Fruit of Grisaia.tar:   0%|          | 0.00/11.4M [00:00<?, ?B/s]"
      ]
     },
     "metadata": {},
     "output_type": "display_data"
    },
    {
     "data": {
      "application/vnd.jupyter.widget-view+json": {
       "model_id": "f709135415ea45d4b97ed5903665673f",
       "version_major": 2,
       "version_minor": 0
      },
      "text/plain": [
       "The House in Fata Morgana - A Requiem for Innocence.tar:   0%|          | 0.00/2.10M [00:00<?, ?B/s]"
      ]
     },
     "metadata": {},
     "output_type": "display_data"
    },
    {
     "data": {
      "application/vnd.jupyter.widget-view+json": {
       "model_id": "c3021f542fd840b9913d13cacbefafbd",
       "version_major": 2,
       "version_minor": 0
      },
      "text/plain": [
       "The House in Fata Morgana.tar:   0%|          | 0.00/4.67M [00:00<?, ?B/s]"
      ]
     },
     "metadata": {},
     "output_type": "display_data"
    },
    {
     "data": {
      "application/vnd.jupyter.widget-view+json": {
       "model_id": "0ed3912770b441fea1c10ae630c696fb",
       "version_major": 2,
       "version_minor": 0
      },
      "text/plain": [
       "The Labyrinth of Grisaia.tar:   0%|          | 0.00/4.99M [00:00<?, ?B/s]"
      ]
     },
     "metadata": {},
     "output_type": "display_data"
    },
    {
     "data": {
      "application/vnd.jupyter.widget-view+json": {
       "model_id": "dab3ed35aa8d41329efdd4e2b6af3cb9",
       "version_major": 2,
       "version_minor": 0
      },
      "text/plain": [
       "The Price Of Flesh.tar:   0%|          | 0.00/717k [00:00<?, ?B/s]"
      ]
     },
     "metadata": {},
     "output_type": "display_data"
    },
    {
     "data": {
      "application/vnd.jupyter.widget-view+json": {
       "model_id": "91105f7559f74f918e51e38c50acdfa2",
       "version_major": 2,
       "version_minor": 0
      },
      "text/plain": [
       "The Shadows of Pygmalion.tar:   0%|          | 0.00/2.24M [00:00<?, ?B/s]"
      ]
     },
     "metadata": {},
     "output_type": "display_data"
    },
    {
     "data": {
      "application/vnd.jupyter.widget-view+json": {
       "model_id": "9b6e1ae4394a43eeaef4bbba28d8b626",
       "version_major": 2,
       "version_minor": 0
      },
      "text/plain": [
       "The Survival of Sarah Rose.tar:   0%|          | 0.00/5.16M [00:00<?, ?B/s]"
      ]
     },
     "metadata": {},
     "output_type": "display_data"
    },
    {
     "data": {
      "application/vnd.jupyter.widget-view+json": {
       "model_id": "6af2ca05971e4ca997f4226834376964",
       "version_major": 2,
       "version_minor": 0
      },
      "text/plain": [
       "The Way We ALL GO.tar:   0%|          | 0.00/3.23M [00:00<?, ?B/s]"
      ]
     },
     "metadata": {},
     "output_type": "display_data"
    },
    {
     "data": {
      "application/vnd.jupyter.widget-view+json": {
       "model_id": "c501c6a3b98c4ba0987ad99fcbffc688",
       "version_major": 2,
       "version_minor": 0
      },
      "text/plain": [
       "TheDevilOnGstring.tar:   0%|          | 0.00/5.30M [00:00<?, ?B/s]"
      ]
     },
     "metadata": {},
     "output_type": "display_data"
    },
    {
     "data": {
      "application/vnd.jupyter.widget-view+json": {
       "model_id": "436864e9bcea4e26b6ec50937521d07b",
       "version_major": 2,
       "version_minor": 0
      },
      "text/plain": [
       "Tokyo Babel.tar:   0%|          | 0.00/5.26M [00:00<?, ?B/s]"
      ]
     },
     "metadata": {},
     "output_type": "display_data"
    },
    {
     "data": {
      "application/vnd.jupyter.widget-view+json": {
       "model_id": "7ca01ba9fec245ae9c6e59c2ace4347f",
       "version_major": 2,
       "version_minor": 0
      },
      "text/plain": [
       "Wagamama High Spec.tar:   0%|          | 0.00/3.37M [00:00<?, ?B/s]"
      ]
     },
     "metadata": {},
     "output_type": "display_data"
    },
    {
     "data": {
      "application/vnd.jupyter.widget-view+json": {
       "model_id": "27518a9970254c4582863542f4e15a28",
       "version_major": 2,
       "version_minor": 0
      },
      "text/plain": [
       "Waifu Hub.tar:   0%|          | 0.00/3.02M [00:00<?, ?B/s]"
      ]
     },
     "metadata": {},
     "output_type": "display_data"
    },
    {
     "data": {
      "application/vnd.jupyter.widget-view+json": {
       "model_id": "bfb80e403dfc4c4bafaecb623f406e20",
       "version_major": 2,
       "version_minor": 0
      },
      "text/plain": [
       "Wanting Wings - Her and Her Romance!.tar:   0%|          | 0.00/1.80M [00:00<?, ?B/s]"
      ]
     },
     "metadata": {},
     "output_type": "display_data"
    },
    {
     "data": {
      "application/vnd.jupyter.widget-view+json": {
       "model_id": "89e92b8662994ad99ac4b337d36837de",
       "version_major": 2,
       "version_minor": 0
      },
      "text/plain": [
       "Wolf Tails.tar:   0%|          | 0.00/522k [00:00<?, ?B/s]"
      ]
     },
     "metadata": {},
     "output_type": "display_data"
    },
    {
     "data": {
      "application/vnd.jupyter.widget-view+json": {
       "model_id": "66cdade2557447248ec626c6b5c7a5c4",
       "version_major": 2,
       "version_minor": 0
      },
      "text/plain": [
       "Wonderful Everyday - Discontinuous Existence (Subarashiki Hibi).tar:   0%|          | 0.00/6.82M [00:00<?, ?B/…"
      ]
     },
     "metadata": {},
     "output_type": "display_data"
    },
    {
     "data": {
      "text/plain": [
       "CommitInfo(commit_url='https://huggingface.co/datasets/kimbong/visual_novel/commit/c269cc29af282db1193af70d8b9968e782279a81', commit_message='Upload folder using huggingface_hub', commit_description='', oid='c269cc29af282db1193af70d8b9968e782279a81', pr_url=None, pr_revision=None, pr_num=None)"
      ]
     },
     "execution_count": 5,
     "metadata": {},
     "output_type": "execute_result"
    }
   ],
   "source": [
    "from huggingface_hub import HfApi, create_branch\n",
    "api = HfApi(\n",
    "    token = \"\"\n",
    ")\n",
    "\n",
    "api.create_branch(\n",
    "    repo_id = \"kimbong/visual_novel\", \n",
    "    repo_type=\"dataset\", \n",
    "    branch=\"txt\"\n",
    "    )\n",
    "\n",
    "api.upload_folder(\n",
    "    folder_path=\"../dataset/visual_novel_txt\",\n",
    "    repo_id=\"kimbong/visual_novel\",\n",
    "    repo_type=\"dataset\",\n",
    "    revision=\"txt\",\n",
    ")"
   ]
  }
 ],
 "metadata": {
  "kernelspec": {
   "display_name": ".venv",
   "language": "python",
   "name": "python3"
  },
  "language_info": {
   "codemirror_mode": {
    "name": "ipython",
    "version": 3
   },
   "file_extension": ".py",
   "mimetype": "text/x-python",
   "name": "python",
   "nbconvert_exporter": "python",
   "pygments_lexer": "ipython3",
   "version": "3.11.9"
  }
 },
 "nbformat": 4,
 "nbformat_minor": 2
}
