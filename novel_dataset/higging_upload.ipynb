{
 "cells": [
  {
   "cell_type": "code",
   "execution_count": null,
   "metadata": {},
   "outputs": [],
   "source": [
    "# powershell에서 tar 파일 만드는 명령어\n",
    "$savePath = \"{저장할 경로}\"\n",
    "$loadPath = \"{압축할 파일이 있는 경로}\"\n",
    "\n",
    "# 대상 폴더 경로 내의 모든 하위 폴더 가져오기\n",
    "Get-ChildItem -Path $loadPath -Directory | ForEach-Object {\n",
    "    # 현재 폴더의 이름\n",
    "    $folderName = $_.Name\n",
    "\n",
    "    # TAR 파일의 경로와 이름 설정\n",
    "    $tarFileName = $savePath+'\\'+$folderName+'.tar''\n",
    "    \n",
    "    # TAR 명령어를 사용하여 폴더를 압축\n",
    "    tar -cvf $tarFileName -C $loadPath $folderName\n",
    "}"
   ]
  },
  {
   "cell_type": "code",
   "execution_count": 10,
   "metadata": {},
   "outputs": [
    {
     "data": {
      "text/plain": [
       "CommitInfo(commit_url='https://huggingface.co/datasets/kimbong/visual_novel/commit/d7c32d6a01ba4f43d74f6e7a64aac7686b50cdea', commit_message='Upload folder using huggingface_hub', commit_description='', oid='d7c32d6a01ba4f43d74f6e7a64aac7686b50cdea', pr_url=None, pr_revision=None, pr_num=None)"
      ]
     },
     "execution_count": 10,
     "metadata": {},
     "output_type": "execute_result"
    }
   ],
   "source": [
    "from huggingface_hub import HfApi, create_branch\n",
    "api = HfApi(\n",
    "    token = \"\"\n",
    ")\n",
    "\n",
    "api.create_branch(\n",
    "    repo_id = \"kimbong/visual_novel\", \n",
    "    repo_type=\"dataset\", \n",
    "    branch=\"txt2\"\n",
    "    )\n",
    "\n",
    "api.upload_folder(\n",
    "    folder_path=\"../dataset/visual_novel\",\n",
    "    repo_id=\"kimbong/visual_novel\",\n",
    "    repo_type=\"dataset\",\n",
    "    revision=\"txt2\",\n",
    "    delete_patterns=\"*.tar\"\n",
    ")"
   ]
  }
 ],
 "metadata": {
  "kernelspec": {
   "display_name": ".venv",
   "language": "python",
   "name": "python3"
  },
  "language_info": {
   "codemirror_mode": {
    "name": "ipython",
    "version": 3
   },
   "file_extension": ".py",
   "mimetype": "text/x-python",
   "name": "python",
   "nbconvert_exporter": "python",
   "pygments_lexer": "ipython3",
   "version": "3.11.9"
  }
 },
 "nbformat": 4,
 "nbformat_minor": 2
}
