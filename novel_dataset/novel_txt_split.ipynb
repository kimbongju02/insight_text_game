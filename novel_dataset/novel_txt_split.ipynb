{
 "cells": [
  {
   "cell_type": "code",
   "execution_count": null,
   "metadata": {},
   "outputs": [],
   "source": [
    "import os\n",
    "path = \"/Users/kimbo/code/insight_text_game_dataset/visual-novels/Parsed/story_txt\"\n",
    "\n",
    "novel_list = os.listdir(path)\n",
    "print(len(novel_list))"
   ]
  },
  {
   "cell_type": "code",
   "execution_count": null,
   "metadata": {},
   "outputs": [],
   "source": [
    "folder_path = \"C:/Users/kimbo/code/insight_text_game_dataset/visual-novels/Parsed/story_txt/\"\n",
    "\n",
    "for novel_name in novel_list:\n",
    "    f = open(folder_path+novel_name, 'r')\n",
    "    novel_content = []\n",
    "    while True:\n",
    "        line = f.readline()\n",
    "        if not line: break\n",
    "        novel_content.append(line.strip())\n",
    "    f.close()"
   ]
  },
  {
   "cell_type": "code",
   "execution_count": null,
   "metadata": {},
   "outputs": [],
   "source": [
    "class dict(object):\n",
    "    def __init__(self, name):\n",
    "        self._name = name\n",
    "\n",
    "    def __str__(self):\n",
    "        return self._name\n",
    "\n",
    "    def __repr__(self):\n",
    "        return \"'\"+self._name+\"'\""
   ]
  }
 ],
 "metadata": {
  "language_info": {
   "name": "python"
  }
 },
 "nbformat": 4,
 "nbformat_minor": 2
}
