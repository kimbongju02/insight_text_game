{
 "cells": [
  {
   "cell_type": "code",
   "execution_count": 42,
   "metadata": {},
   "outputs": [
    {
     "name": "stdout",
     "output_type": "stream",
     "text": [
      "136\n"
     ]
    }
   ],
   "source": [
    "import os\n",
    "path = \"/Users/kimbo/code/insight_text_game_dataset/visual-novels/Parsed/story_txt\"\n",
    "path2 = \"/code/insight_text_game_dataset/visual-novels/Parsed/novel_txt\"\n",
    "\n",
    "# json 파일들이 모일 상위 폴더\n",
    "save_foler = \"E:/code/insight_text_game_dataset/visual-novels-json/\"\n",
    "\n",
    "novel_list = os.listdir(path2)\n",
    "print(len(novel_list))"
   ]
  },
  {
   "cell_type": "code",
   "execution_count": 43,
   "metadata": {},
   "outputs": [],
   "source": [
    "folder_path = \"C:\"+ path + \"/\"\n",
    "folder_path2 = \"E:\"+ path2 + \"/\""
   ]
  },
  {
   "cell_type": "code",
   "execution_count": 59,
   "metadata": {},
   "outputs": [],
   "source": [
    "import json\n",
    "\n",
    "def novel_convert_to_json(novel_title, virtual_novels):\n",
    "    json_list = []\n",
    "    idx=0\n",
    "    novel_title = novel_title.strip('.txt')\n",
    "    create_save_folder_of_novel(novel_title)\n",
    "    \n",
    "    for sentence in virtual_novels:\n",
    "        try:\n",
    "            if sentence[0] == \"*\":\n",
    "                json_list.append({'narration' : sentence.strip()[1:-1]})\n",
    "            elif sentence[0] == \"=\":\n",
    "                idx+=1\n",
    "                save_json(idx, novel_title, json_list)\n",
    "                json_list.clear()\n",
    "            else:\n",
    "                name, content = sentence.split(\":\", 1)\n",
    "                json_list.append({name.strip() : content.strip()})\n",
    "        except:\n",
    "            json_list.append({'unknown' : sentence.strip()})\n",
    "    if(len(json_list)!=0):\n",
    "        idx+=1\n",
    "        save_json(idx, novel_title, json_list)\n",
    "    \n",
    "def save_json(idx, novel_title, json_list):\n",
    "    save_folder_url = save_foler+novel_title+\"/\"\n",
    "    save_json_url = save_folder_url+novel_title+\"_\"+str(idx)+\".json\"\n",
    "    \n",
    "    with open(save_json_url, 'w', encoding='utf-8') as f:\n",
    "        json.dump(json_list, f, ensure_ascii=False, indent=4)\n",
    "        \n",
    "def create_save_folder_of_novel(novel_title):\n",
    "    create_folder = save_foler+novel_title\n",
    "    if not os.path.exists(create_folder):\n",
    "        os.mkdir(create_folder)"
   ]
  },
  {
   "cell_type": "code",
   "execution_count": 60,
   "metadata": {},
   "outputs": [],
   "source": [
    "for novel_name in novel_list:\n",
    "    f = open(folder_path2+novel_name, 'r', encoding='utf-8')\n",
    "    novel_content = []\n",
    "    while True:\n",
    "        line = f.readline()\n",
    "        if not line: break\n",
    "        novel_content.append(line.strip())\n",
    "    f.close()\n",
    "    novel_convert_to_json(novel_name, novel_content)"
   ]
  },
  {
   "cell_type": "code",
   "execution_count": null,
   "metadata": {},
   "outputs": [],
   "source": []
  }
 ],
 "metadata": {
  "kernelspec": {
   "display_name": ".venv",
   "language": "python",
   "name": "python3"
  },
  "language_info": {
   "codemirror_mode": {
    "name": "ipython",
    "version": 3
   },
   "file_extension": ".py",
   "mimetype": "text/x-python",
   "name": "python",
   "nbconvert_exporter": "python",
   "pygments_lexer": "ipython3",
   "version": "3.12.2"
  }
 },
 "nbformat": 4,
 "nbformat_minor": 2
}
