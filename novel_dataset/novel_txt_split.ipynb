{
 "cells": [
  {
   "cell_type": "code",
   "execution_count": 42,
   "metadata": {},
   "outputs": [
    {
     "name": "stdout",
     "output_type": "stream",
     "text": [
      "136\n"
     ]
    }
   ],
   "source": [
    "import os\n",
    "path = \"/Users/kimbo/code/insight_text_game_dataset/visual-novels/Parsed/story_txt\"\n",
    "path2 = \"/code/insight_text_game_dataset/visual-novels/Parsed/novel_txt\"\n",
    "\n",
    "# json 파일들이 모일 상위 폴더\n",
    "save_foler = \"E:/code/insight_text_game_dataset/visual-novels-json/\"\n",
    "\n",
    "novel_list = os.listdir(path2)\n",
    "print(len(novel_list))"
   ]
  },
  {
   "cell_type": "code",
   "execution_count": 43,
   "metadata": {},
   "outputs": [],
   "source": [
    "folder_path = \"C:\"+ path + \"/\"\n",
    "folder_path2 = \"E:\"+ path2 + \"/\""
   ]
  },
  {
   "cell_type": "code",
   "execution_count": 58,
   "metadata": {},
   "outputs": [],
   "source": [
    "import json\n",
    "\n",
    "def novel_convert_to_json(novel_title, virtual_novels):\n",
    "    json_list = []\n",
    "    idx=0\n",
    "    novel_title = novel_title.strip('.txt')\n",
    "    create_save_folder_of_novel(novel_title)\n",
    "    \n",
    "    for sentence in virtual_novels:\n",
    "        try:\n",
    "            if sentence[0] == \"*\":\n",
    "                json_list.append({'narration' : sentence.strip()[1:-1]})\n",
    "            elif sentence[0] == \"=\":\n",
    "                idx+=1\n",
    "                save_json(idx, novel_title, json_list)\n",
    "                json_list.clear()\n",
    "            else:\n",
    "                name, content = sentence.split(\":\", 1)\n",
    "                json_list.append({name.strip() : content.strip()})\n",
    "        except:\n",
    "            json_list.append({'unknown' : sentence.strip()})\n",
    "    if(len(json_list)!=0):\n",
    "        idx+=1\n",
    "        save_json(idx, novel_title, json_list)\n",
    "    \n",
    "def save_json(idx, novel_title, json_list):\n",
    "    save_folder_url = save_foler+novel_title+\"/\"\n",
    "    save_json_url = save_folder_url+novel_title+\"_\"+str(idx)+\".json\"\n",
    "    \n",
    "    with open(save_json_url, 'w', encoding='utf-8') as f:\n",
    "        json.dump(json_list, f, ensure_ascii=False, indent=4)\n",
    "        \n",
    "def create_save_folder_of_novel(novel_title):\n",
    "    create_folder = save_foler+novel_title\n",
    "    if not os.path.exists(create_folder):\n",
    "        os.mkdir(create_folder)"
   ]
  },
  {
   "cell_type": "code",
   "execution_count": 57,
   "metadata": {},
   "outputs": [
    {
     "ename": "FileNotFoundError",
     "evalue": "[Errno 2] No such file or directory: 'E:/code/insight_text_game_dataset/visual-novels-json/Doki Doki Literature Club/Doki Doki Literature Club_1.json'",
     "output_type": "error",
     "traceback": [
      "\u001b[1;31m---------------------------------------------------------------------------\u001b[0m",
      "\u001b[1;31mFileNotFoundError\u001b[0m                         Traceback (most recent call last)",
      "Cell \u001b[1;32mIn[57], line 9\u001b[0m\n\u001b[0;32m      7\u001b[0m     novel_content\u001b[38;5;241m.\u001b[39mappend(line\u001b[38;5;241m.\u001b[39mstrip())\n\u001b[0;32m      8\u001b[0m f\u001b[38;5;241m.\u001b[39mclose()\n\u001b[1;32m----> 9\u001b[0m \u001b[43mnovel_convert_to_json\u001b[49m\u001b[43m(\u001b[49m\u001b[43mnovel_name\u001b[49m\u001b[43m,\u001b[49m\u001b[43m \u001b[49m\u001b[43mnovel_content\u001b[49m\u001b[43m)\u001b[49m\n",
      "Cell \u001b[1;32mIn[56], line 24\u001b[0m, in \u001b[0;36mnovel_convert_to_json\u001b[1;34m(novel_title, virtual_novels)\u001b[0m\n\u001b[0;32m     22\u001b[0m \u001b[38;5;28;01mif\u001b[39;00m(\u001b[38;5;28mlen\u001b[39m(json_list)\u001b[38;5;241m!=\u001b[39m\u001b[38;5;241m0\u001b[39m):\n\u001b[0;32m     23\u001b[0m     idx\u001b[38;5;241m+\u001b[39m\u001b[38;5;241m=\u001b[39m\u001b[38;5;241m1\u001b[39m\n\u001b[1;32m---> 24\u001b[0m     \u001b[43msave_json\u001b[49m\u001b[43m(\u001b[49m\u001b[43midx\u001b[49m\u001b[43m,\u001b[49m\u001b[43m \u001b[49m\u001b[43mnovel_title\u001b[49m\u001b[43m,\u001b[49m\u001b[43m \u001b[49m\u001b[43mjson_list\u001b[49m\u001b[43m)\u001b[49m\n",
      "Cell \u001b[1;32mIn[56], line 30\u001b[0m, in \u001b[0;36msave_json\u001b[1;34m(idx, novel_title, json_list)\u001b[0m\n\u001b[0;32m     27\u001b[0m save_folder_url \u001b[38;5;241m=\u001b[39m save_foler\u001b[38;5;241m+\u001b[39mnovel_title\u001b[38;5;241m+\u001b[39m\u001b[38;5;124m\"\u001b[39m\u001b[38;5;124m/\u001b[39m\u001b[38;5;124m\"\u001b[39m\n\u001b[0;32m     28\u001b[0m save_json_url \u001b[38;5;241m=\u001b[39m save_folder_url\u001b[38;5;241m+\u001b[39mnovel_title\u001b[38;5;241m+\u001b[39m\u001b[38;5;124m\"\u001b[39m\u001b[38;5;124m_\u001b[39m\u001b[38;5;124m\"\u001b[39m\u001b[38;5;241m+\u001b[39m\u001b[38;5;28mstr\u001b[39m(idx)\u001b[38;5;241m+\u001b[39m\u001b[38;5;124m\"\u001b[39m\u001b[38;5;124m.json\u001b[39m\u001b[38;5;124m\"\u001b[39m\n\u001b[1;32m---> 30\u001b[0m \u001b[38;5;28;01mwith\u001b[39;00m \u001b[38;5;28;43mopen\u001b[39;49m\u001b[43m(\u001b[49m\u001b[43msave_json_url\u001b[49m\u001b[43m,\u001b[49m\u001b[43m \u001b[49m\u001b[38;5;124;43m'\u001b[39;49m\u001b[38;5;124;43mw\u001b[39;49m\u001b[38;5;124;43m'\u001b[39;49m\u001b[43m,\u001b[49m\u001b[43m \u001b[49m\u001b[43mencoding\u001b[49m\u001b[38;5;241;43m=\u001b[39;49m\u001b[38;5;124;43m'\u001b[39;49m\u001b[38;5;124;43mutf-8\u001b[39;49m\u001b[38;5;124;43m'\u001b[39;49m\u001b[43m)\u001b[49m \u001b[38;5;28;01mas\u001b[39;00m f:\n\u001b[0;32m     31\u001b[0m     json\u001b[38;5;241m.\u001b[39mdump(json_list, f, ensure_ascii\u001b[38;5;241m=\u001b[39m\u001b[38;5;28;01mFalse\u001b[39;00m, indent\u001b[38;5;241m=\u001b[39m\u001b[38;5;241m4\u001b[39m)\n",
      "File \u001b[1;32me:\\code\\insight_text_game\\.venv\\Lib\\site-packages\\IPython\\core\\interactiveshell.py:324\u001b[0m, in \u001b[0;36m_modified_open\u001b[1;34m(file, *args, **kwargs)\u001b[0m\n\u001b[0;32m    317\u001b[0m \u001b[38;5;28;01mif\u001b[39;00m file \u001b[38;5;129;01min\u001b[39;00m {\u001b[38;5;241m0\u001b[39m, \u001b[38;5;241m1\u001b[39m, \u001b[38;5;241m2\u001b[39m}:\n\u001b[0;32m    318\u001b[0m     \u001b[38;5;28;01mraise\u001b[39;00m \u001b[38;5;167;01mValueError\u001b[39;00m(\n\u001b[0;32m    319\u001b[0m         \u001b[38;5;124mf\u001b[39m\u001b[38;5;124m\"\u001b[39m\u001b[38;5;124mIPython won\u001b[39m\u001b[38;5;124m'\u001b[39m\u001b[38;5;124mt let you open fd=\u001b[39m\u001b[38;5;132;01m{\u001b[39;00mfile\u001b[38;5;132;01m}\u001b[39;00m\u001b[38;5;124m by default \u001b[39m\u001b[38;5;124m\"\u001b[39m\n\u001b[0;32m    320\u001b[0m         \u001b[38;5;124m\"\u001b[39m\u001b[38;5;124mas it is likely to crash IPython. If you know what you are doing, \u001b[39m\u001b[38;5;124m\"\u001b[39m\n\u001b[0;32m    321\u001b[0m         \u001b[38;5;124m\"\u001b[39m\u001b[38;5;124myou can use builtins\u001b[39m\u001b[38;5;124m'\u001b[39m\u001b[38;5;124m open.\u001b[39m\u001b[38;5;124m\"\u001b[39m\n\u001b[0;32m    322\u001b[0m     )\n\u001b[1;32m--> 324\u001b[0m \u001b[38;5;28;01mreturn\u001b[39;00m \u001b[43mio_open\u001b[49m\u001b[43m(\u001b[49m\u001b[43mfile\u001b[49m\u001b[43m,\u001b[49m\u001b[43m \u001b[49m\u001b[38;5;241;43m*\u001b[39;49m\u001b[43margs\u001b[49m\u001b[43m,\u001b[49m\u001b[43m \u001b[49m\u001b[38;5;241;43m*\u001b[39;49m\u001b[38;5;241;43m*\u001b[39;49m\u001b[43mkwargs\u001b[49m\u001b[43m)\u001b[49m\n",
      "\u001b[1;31mFileNotFoundError\u001b[0m: [Errno 2] No such file or directory: 'E:/code/insight_text_game_dataset/visual-novels-json/Doki Doki Literature Club/Doki Doki Literature Club_1.json'"
     ]
    }
   ],
   "source": [
    "for novel_name in novel_list:\n",
    "    f = open(folder_path2+novel_name, 'r', encoding='utf-8')\n",
    "    novel_content = []\n",
    "    while True:\n",
    "        line = f.readline()\n",
    "        if not line: break\n",
    "        novel_content.append(line.strip())\n",
    "    f.close()\n",
    "    novel_convert_to_json(novel_name, novel_content)"
   ]
  },
  {
   "cell_type": "code",
   "execution_count": null,
   "metadata": {},
   "outputs": [],
   "source": []
  }
 ],
 "metadata": {
  "kernelspec": {
   "display_name": ".venv",
   "language": "python",
   "name": "python3"
  },
  "language_info": {
   "codemirror_mode": {
    "name": "ipython",
    "version": 3
   },
   "file_extension": ".py",
   "mimetype": "text/x-python",
   "name": "python",
   "nbconvert_exporter": "python",
   "pygments_lexer": "ipython3",
   "version": "3.12.4"
  }
 },
 "nbformat": 4,
 "nbformat_minor": 2
}
