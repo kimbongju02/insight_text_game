{
 "cells": [
  {
   "cell_type": "markdown",
   "metadata": {},
   "source": [
    "# Change the name of the main character of the novel"
   ]
  },
  {
   "cell_type": "code",
   "execution_count": null,
   "metadata": {},
   "outputs": [],
   "source": [
    "import os\n",
    "current_folder = os.getcwd()\n",
    "\n",
    "# json 파일들이 모일 상위 폴더\n",
    "novels_folder_path = os.path.join(current_folder, '..\\\\..\\\\insight_text_game_dataset\\\\visual-novel-preprocessing')\n",
    "\n",
    "novels_folder_list = os.listdir(novels_folder_path)"
   ]
  },
  {
   "cell_type": "code",
   "execution_count": null,
   "metadata": {},
   "outputs": [],
   "source": [
    "def change_char_name(data, name):\n",
    "    novel = []      \n",
    "    for line in data:\n",
    "        for key, value in line.items():\n",
    "            if key==name:\n",
    "                novel.append({'<USER>':value})\n",
    "            else:\n",
    "                novel.append({key:value})\n",
    "    return novel"
   ]
  },
  {
   "cell_type": "code",
   "execution_count": null,
   "metadata": {},
   "outputs": [],
   "source": [
    "def save_novel(preprocessing_novel_json, novel_folder_name, novel_name):\n",
    "    save_novelfolder_path = os.path.join(save_folder_path, novel_folder_name)\n",
    "    \n",
    "    def save_json():\n",
    "        save_json_url = os.path.join(save_novelfolder_path, novel_name)\n",
    "        \n",
    "        with open(save_json_url, 'wt', encoding='utf-8') as f:\n",
    "            json.dump(preprocessing_novel_json, f, ensure_ascii=False, indent=4)\n",
    "        \n",
    "    def create_save_folder_of_novel():\n",
    "        if not os.path.exists(save_novelfolder_path):\n",
    "            os.mkdir(save_novelfolder_path)\n",
    "            \n",
    "    create_save_folder_of_novel()\n",
    "    save_json()"
   ]
  },
  {
   "cell_type": "code",
   "execution_count": null,
   "metadata": {},
   "outputs": [],
   "source": [
    "import json\n",
    "\n",
    "select_novel_name = novels_folder_list[0]\n",
    "\n",
    "novels_json_list = os.listdir(os.path.join(novels_folder_path, select_novel_name))\n",
    "for novel_name in novels_json_list:\n",
    "    novel_path = os.path.join(novels_folder_path, select_novel_name, novel_name)\n",
    "    with open(novel_path, 'r', encoding='utf-8') as f:\n",
    "        json_data = json.load(f)\n",
    "        preprocessing_novel_json = change_char_name(json_data, \"Kakeru\")\n",
    "        save_novel(preprocessing_novel_json, select_novel_name, novel_name)"
   ]
  },
  {
   "cell_type": "code",
   "execution_count": null,
   "metadata": {},
   "outputs": [],
   "source": [
    "print(preprocessing_novel_json)"
   ]
  }
 ],
 "metadata": {
  "language_info": {
   "name": "python"
  }
 },
 "nbformat": 4,
 "nbformat_minor": 2
}
