{
 "cells": [
  {
   "cell_type": "code",
   "execution_count": null,
   "metadata": {},
   "outputs": [],
   "source": [
    "import os\n",
    "novel_path = \"C:/Users/IoT Lab1/bong/insight_text_game_dataset/visual-novels-json/visual-novels-json\"\n",
    "\n",
    "# json 파일들이 모일 상위 폴더\n",
    "save_foler = \"C:/Users/IoT Lab1/bong/insight_text_game_dataset/visual-novel-preprocesssing\"\n",
    "\n",
    "novels_list = os.listdir(novel_path)"
   ]
  },
  {
   "cell_type": "code",
   "execution_count": null,
   "metadata": {},
   "outputs": [],
   "source": [
    "for novel_name in novels_list:\n",
    "    novel_list = os.listdir(novel_path+\"/\"+novel_name)"
   ]
  }
 ],
 "metadata": {
  "language_info": {
   "name": "python"
  }
 },
 "nbformat": 4,
 "nbformat_minor": 2
}
