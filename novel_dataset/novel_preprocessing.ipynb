{
 "cells": [
  {
   "cell_type": "code",
   "execution_count": 40,
   "metadata": {},
   "outputs": [],
   "source": [
    "import os\n",
    "current_folder = os.getcwd()\n",
    "\n",
    "novels_folder_path = os.path.join(current_folder, '..\\\\..\\\\insight_text_game_dataset\\\\visual-novels-json\\\\visual-novels-json')\n",
    "\n",
    "# json 파일들이 모일 상위 폴더\n",
    "save_folder_path = os.path.join(current_folder, '..\\\\..\\\\insight_text_game_dataset\\\\visual-novel-preprocessing')\n",
    "\n",
    "novels_folder_list = os.listdir(novels_folder_path)"
   ]
  },
  {
   "cell_type": "code",
   "execution_count": 41,
   "metadata": {},
   "outputs": [],
   "source": [
    "def data_split(json_data):\n",
    "    novel = []\n",
    "    sig=0\n",
    "    # def print_sig(line):\n",
    "    #     print(line)\n",
    "    #     print('\\n\\n')\n",
    "            \n",
    "    for line in json_data:\n",
    "        novel.append(line)\n",
    "        str_value = list(line.values())[0]\n",
    "        \n",
    "        if sig & ('?' in str_value):\n",
    "            sig=0\n",
    "            \n",
    "        if sig:\n",
    "            #print_sig(line)\n",
    "            sig=0\n",
    "            novel.append({'split': '==============================='})\n",
    "            \n",
    "        if '?' in str_value:\n",
    "            #print(line)\n",
    "            sig=1\n",
    "            \n",
    "    return novel"
   ]
  },
  {
   "cell_type": "code",
   "execution_count": 42,
   "metadata": {},
   "outputs": [],
   "source": [
    "def save_novel(preprocessing_novel_json, novel_folder_name, novel_name):\n",
    "    save_novelfolder_path = os.path.join(save_folder_path, novel_folder_name)\n",
    "    \n",
    "    def save_json():\n",
    "        save_json_url = os.path.join(save_novelfolder_path, novel_name)\n",
    "        \n",
    "        with open(save_json_url, 'wt', encoding='utf-8') as f:\n",
    "            json.dump(preprocessing_novel_json, f, ensure_ascii=False, indent=4)\n",
    "        \n",
    "    def create_save_folder_of_novel():\n",
    "        if not os.path.exists(save_novelfolder_path):\n",
    "            os.mkdir(save_novelfolder_path)\n",
    "            \n",
    "    create_save_folder_of_novel()\n",
    "    save_json()"
   ]
  },
  {
   "cell_type": "code",
   "execution_count": 43,
   "metadata": {},
   "outputs": [
    {
     "ename": "FileNotFoundError",
     "evalue": "[Errno 2] No such file or directory: 'c:\\\\Users\\\\IoT Lab1\\\\bong\\\\insight_text_game\\\\novel_dataset\\\\..\\\\..\\\\insight_text_game_dataset\\\\visual-novels-json\\\\visual-novels-json\\\\Wonderful Everyday - Discontinuous Existence (Subarashiki Hibi)\\\\Wonderful Everyday - Discontinuous Existence (Subarashiki Hibi)_10.json'",
     "output_type": "error",
     "traceback": [
      "\u001b[1;31m---------------------------------------------------------------------------\u001b[0m",
      "\u001b[1;31mFileNotFoundError\u001b[0m                         Traceback (most recent call last)",
      "Cell \u001b[1;32mIn[43], line 6\u001b[0m\n\u001b[0;32m      4\u001b[0m \u001b[38;5;28;01mfor\u001b[39;00m novel_name \u001b[38;5;129;01min\u001b[39;00m novel_list:\n\u001b[0;32m      5\u001b[0m     novel_path \u001b[38;5;241m=\u001b[39m os\u001b[38;5;241m.\u001b[39mpath\u001b[38;5;241m.\u001b[39mjoin(novels_folder_path, novel_folder_name, novel_name)\n\u001b[1;32m----> 6\u001b[0m     \u001b[38;5;28;01mwith\u001b[39;00m \u001b[38;5;28;43mopen\u001b[39;49m\u001b[43m(\u001b[49m\u001b[43mnovel_path\u001b[49m\u001b[43m,\u001b[49m\u001b[43m \u001b[49m\u001b[38;5;124;43m'\u001b[39;49m\u001b[38;5;124;43mr\u001b[39;49m\u001b[38;5;124;43m'\u001b[39;49m\u001b[43m,\u001b[49m\u001b[43m \u001b[49m\u001b[43mencoding\u001b[49m\u001b[38;5;241;43m=\u001b[39;49m\u001b[38;5;124;43m'\u001b[39;49m\u001b[38;5;124;43mutf-8\u001b[39;49m\u001b[38;5;124;43m'\u001b[39;49m\u001b[43m)\u001b[49m \u001b[38;5;28;01mas\u001b[39;00m f:\n\u001b[0;32m      7\u001b[0m         json_data \u001b[38;5;241m=\u001b[39m json\u001b[38;5;241m.\u001b[39mload(f)\n\u001b[0;32m      8\u001b[0m         preprocessing_novel_json \u001b[38;5;241m=\u001b[39m data_split(json_data)\n",
      "File \u001b[1;32mc:\\Users\\IoT Lab1\\bong\\.venv\\Lib\\site-packages\\IPython\\core\\interactiveshell.py:324\u001b[0m, in \u001b[0;36m_modified_open\u001b[1;34m(file, *args, **kwargs)\u001b[0m\n\u001b[0;32m    317\u001b[0m \u001b[38;5;28;01mif\u001b[39;00m file \u001b[38;5;129;01min\u001b[39;00m {\u001b[38;5;241m0\u001b[39m, \u001b[38;5;241m1\u001b[39m, \u001b[38;5;241m2\u001b[39m}:\n\u001b[0;32m    318\u001b[0m     \u001b[38;5;28;01mraise\u001b[39;00m \u001b[38;5;167;01mValueError\u001b[39;00m(\n\u001b[0;32m    319\u001b[0m         \u001b[38;5;124mf\u001b[39m\u001b[38;5;124m\"\u001b[39m\u001b[38;5;124mIPython won\u001b[39m\u001b[38;5;124m'\u001b[39m\u001b[38;5;124mt let you open fd=\u001b[39m\u001b[38;5;132;01m{\u001b[39;00mfile\u001b[38;5;132;01m}\u001b[39;00m\u001b[38;5;124m by default \u001b[39m\u001b[38;5;124m\"\u001b[39m\n\u001b[0;32m    320\u001b[0m         \u001b[38;5;124m\"\u001b[39m\u001b[38;5;124mas it is likely to crash IPython. If you know what you are doing, \u001b[39m\u001b[38;5;124m\"\u001b[39m\n\u001b[0;32m    321\u001b[0m         \u001b[38;5;124m\"\u001b[39m\u001b[38;5;124myou can use builtins\u001b[39m\u001b[38;5;124m'\u001b[39m\u001b[38;5;124m open.\u001b[39m\u001b[38;5;124m\"\u001b[39m\n\u001b[0;32m    322\u001b[0m     )\n\u001b[1;32m--> 324\u001b[0m \u001b[38;5;28;01mreturn\u001b[39;00m \u001b[43mio_open\u001b[49m\u001b[43m(\u001b[49m\u001b[43mfile\u001b[49m\u001b[43m,\u001b[49m\u001b[43m \u001b[49m\u001b[38;5;241;43m*\u001b[39;49m\u001b[43margs\u001b[49m\u001b[43m,\u001b[49m\u001b[43m \u001b[49m\u001b[38;5;241;43m*\u001b[39;49m\u001b[38;5;241;43m*\u001b[39;49m\u001b[43mkwargs\u001b[49m\u001b[43m)\u001b[49m\n",
      "\u001b[1;31mFileNotFoundError\u001b[0m: [Errno 2] No such file or directory: 'c:\\\\Users\\\\IoT Lab1\\\\bong\\\\insight_text_game\\\\novel_dataset\\\\..\\\\..\\\\insight_text_game_dataset\\\\visual-novels-json\\\\visual-novels-json\\\\Wonderful Everyday - Discontinuous Existence (Subarashiki Hibi)\\\\Wonderful Everyday - Discontinuous Existence (Subarashiki Hibi)_10.json'"
     ]
    }
   ],
   "source": [
    "import json\n",
    "\n",
    "for novel_folder_name in novels_folder_list[1:]:\n",
    "    novel_list = os.listdir(os.path.join(novels_folder_path, novel_folder_name))\n",
    "    for novel_name in novel_list:\n",
    "        novel_path = os.path.join(novels_folder_path, novel_folder_name, novel_name)\n",
    "        with open(novel_path, 'r', encoding='utf-8') as f:\n",
    "            json_data = json.load(f)\n",
    "            preprocessing_novel_json = data_split(json_data)\n",
    "            save_novel(preprocessing_novel_json, novel_folder_name, novel_name)"
   ]
  },
  {
   "cell_type": "code",
   "execution_count": 11,
   "metadata": {},
   "outputs": [
    {
     "name": "stdout",
     "output_type": "stream",
     "text": [
      "c:\\Users\\IoT Lab1\\bong\\insight_text_game\\novel_dataset\\..\\..\\insight_text_game_dataset\\visual-novels-json\\visual-novels-json\\Wonderful Everyday - Discontinuous Existence (Subarashiki Hibi)\n",
      "['Wonderful Everyday - Discontinuous Existence (Subarashiki Hibi)_1.json', 'Wonderful Everyday - Discontinuous Existence (Subarashiki Hibi)_10.json', 'Wonderful Everyday - Discontinuous Existence (Subarashiki Hibi)_100.json', 'Wonderful Everyday - Discontinuous Existence (Subarashiki Hibi)_101.json', 'Wonderful Everyday - Discontinuous Existence (Subarashiki Hibi)_102.json', 'Wonderful Everyday - Discontinuous Existence (Subarashiki Hibi)_103.json', 'Wonderful Everyday - Discontinuous Existence (Subarashiki Hibi)_104.json', 'Wonderful Everyday - Discontinuous Existence (Subarashiki Hibi)_105.json', 'Wonderful Everyday - Discontinuous Existence (Subarashiki Hibi)_106.json', 'Wonderful Everyday - Discontinuous Existence (Subarashiki Hibi)_107.json', 'Wonderful Everyday - Discontinuous Existence (Subarashiki Hibi)_108.json', 'Wonderful Everyday - Discontinuous Existence (Subarashiki Hibi)_109.json', 'Wonderful Everyday - Discontinuous Existence (Subarashiki Hibi)_11.json', 'Wonderful Everyday - Discontinuous Existence (Subarashiki Hibi)_110.json', 'Wonderful Everyday - Discontinuous Existence (Subarashiki Hibi)_12.json', 'Wonderful Everyday - Discontinuous Existence (Subarashiki Hibi)_13.json', 'Wonderful Everyday - Discontinuous Existence (Subarashiki Hibi)_14.json', 'Wonderful Everyday - Discontinuous Existence (Subarashiki Hibi)_15.json', 'Wonderful Everyday - Discontinuous Existence (Subarashiki Hibi)_16.json', 'Wonderful Everyday - Discontinuous Existence (Subarashiki Hibi)_17.json', 'Wonderful Everyday - Discontinuous Existence (Subarashiki Hibi)_18.json', 'Wonderful Everyday - Discontinuous Existence (Subarashiki Hibi)_19.json', 'Wonderful Everyday - Discontinuous Existence (Subarashiki Hibi)_2.json', 'Wonderful Everyday - Discontinuous Existence (Subarashiki Hibi)_20.json', 'Wonderful Everyday - Discontinuous Existence (Subarashiki Hibi)_21.json', 'Wonderful Everyday - Discontinuous Existence (Subarashiki Hibi)_22.json', 'Wonderful Everyday - Discontinuous Existence (Subarashiki Hibi)_23.json', 'Wonderful Everyday - Discontinuous Existence (Subarashiki Hibi)_24.json', 'Wonderful Everyday - Discontinuous Existence (Subarashiki Hibi)_25.json', 'Wonderful Everyday - Discontinuous Existence (Subarashiki Hibi)_26.json', 'Wonderful Everyday - Discontinuous Existence (Subarashiki Hibi)_27.json', 'Wonderful Everyday - Discontinuous Existence (Subarashiki Hibi)_28.json', 'Wonderful Everyday - Discontinuous Existence (Subarashiki Hibi)_29.json', 'Wonderful Everyday - Discontinuous Existence (Subarashiki Hibi)_3.json', 'Wonderful Everyday - Discontinuous Existence (Subarashiki Hibi)_30.json', 'Wonderful Everyday - Discontinuous Existence (Subarashiki Hibi)_31.json', 'Wonderful Everyday - Discontinuous Existence (Subarashiki Hibi)_32.json', 'Wonderful Everyday - Discontinuous Existence (Subarashiki Hibi)_33.json', 'Wonderful Everyday - Discontinuous Existence (Subarashiki Hibi)_34.json', 'Wonderful Everyday - Discontinuous Existence (Subarashiki Hibi)_35.json', 'Wonderful Everyday - Discontinuous Existence (Subarashiki Hibi)_36.json', 'Wonderful Everyday - Discontinuous Existence (Subarashiki Hibi)_37.json', 'Wonderful Everyday - Discontinuous Existence (Subarashiki Hibi)_38.json', 'Wonderful Everyday - Discontinuous Existence (Subarashiki Hibi)_39.json', 'Wonderful Everyday - Discontinuous Existence (Subarashiki Hibi)_4.json', 'Wonderful Everyday - Discontinuous Existence (Subarashiki Hibi)_40.json', 'Wonderful Everyday - Discontinuous Existence (Subarashiki Hibi)_41.json', 'Wonderful Everyday - Discontinuous Existence (Subarashiki Hibi)_42.json', 'Wonderful Everyday - Discontinuous Existence (Subarashiki Hibi)_43.json', 'Wonderful Everyday - Discontinuous Existence (Subarashiki Hibi)_44.json', 'Wonderful Everyday - Discontinuous Existence (Subarashiki Hibi)_45.json', 'Wonderful Everyday - Discontinuous Existence (Subarashiki Hibi)_46.json', 'Wonderful Everyday - Discontinuous Existence (Subarashiki Hibi)_47.json', 'Wonderful Everyday - Discontinuous Existence (Subarashiki Hibi)_48.json', 'Wonderful Everyday - Discontinuous Existence (Subarashiki Hibi)_49.json', 'Wonderful Everyday - Discontinuous Existence (Subarashiki Hibi)_5.json', 'Wonderful Everyday - Discontinuous Existence (Subarashiki Hibi)_50.json', 'Wonderful Everyday - Discontinuous Existence (Subarashiki Hibi)_51.json', 'Wonderful Everyday - Discontinuous Existence (Subarashiki Hibi)_52.json', 'Wonderful Everyday - Discontinuous Existence (Subarashiki Hibi)_53.json', 'Wonderful Everyday - Discontinuous Existence (Subarashiki Hibi)_54.json', 'Wonderful Everyday - Discontinuous Existence (Subarashiki Hibi)_55.json', 'Wonderful Everyday - Discontinuous Existence (Subarashiki Hibi)_56.json', 'Wonderful Everyday - Discontinuous Existence (Subarashiki Hibi)_57.json', 'Wonderful Everyday - Discontinuous Existence (Subarashiki Hibi)_58.json', 'Wonderful Everyday - Discontinuous Existence (Subarashiki Hibi)_59.json', 'Wonderful Everyday - Discontinuous Existence (Subarashiki Hibi)_6.json', 'Wonderful Everyday - Discontinuous Existence (Subarashiki Hibi)_60.json', 'Wonderful Everyday - Discontinuous Existence (Subarashiki Hibi)_61.json', 'Wonderful Everyday - Discontinuous Existence (Subarashiki Hibi)_62.json', 'Wonderful Everyday - Discontinuous Existence (Subarashiki Hibi)_63.json', 'Wonderful Everyday - Discontinuous Existence (Subarashiki Hibi)_64.json', 'Wonderful Everyday - Discontinuous Existence (Subarashiki Hibi)_65.json', 'Wonderful Everyday - Discontinuous Existence (Subarashiki Hibi)_66.json', 'Wonderful Everyday - Discontinuous Existence (Subarashiki Hibi)_67.json', 'Wonderful Everyday - Discontinuous Existence (Subarashiki Hibi)_68.json', 'Wonderful Everyday - Discontinuous Existence (Subarashiki Hibi)_69.json', 'Wonderful Everyday - Discontinuous Existence (Subarashiki Hibi)_7.json', 'Wonderful Everyday - Discontinuous Existence (Subarashiki Hibi)_70.json', 'Wonderful Everyday - Discontinuous Existence (Subarashiki Hibi)_71.json', 'Wonderful Everyday - Discontinuous Existence (Subarashiki Hibi)_72.json', 'Wonderful Everyday - Discontinuous Existence (Subarashiki Hibi)_73.json', 'Wonderful Everyday - Discontinuous Existence (Subarashiki Hibi)_74.json', 'Wonderful Everyday - Discontinuous Existence (Subarashiki Hibi)_75.json', 'Wonderful Everyday - Discontinuous Existence (Subarashiki Hibi)_76.json', 'Wonderful Everyday - Discontinuous Existence (Subarashiki Hibi)_77.json', 'Wonderful Everyday - Discontinuous Existence (Subarashiki Hibi)_78.json', 'Wonderful Everyday - Discontinuous Existence (Subarashiki Hibi)_79.json', 'Wonderful Everyday - Discontinuous Existence (Subarashiki Hibi)_8.json', 'Wonderful Everyday - Discontinuous Existence (Subarashiki Hibi)_80.json', 'Wonderful Everyday - Discontinuous Existence (Subarashiki Hibi)_81.json', 'Wonderful Everyday - Discontinuous Existence (Subarashiki Hibi)_82.json', 'Wonderful Everyday - Discontinuous Existence (Subarashiki Hibi)_83.json', 'Wonderful Everyday - Discontinuous Existence (Subarashiki Hibi)_84.json', 'Wonderful Everyday - Discontinuous Existence (Subarashiki Hibi)_85.json', 'Wonderful Everyday - Discontinuous Existence (Subarashiki Hibi)_86.json', 'Wonderful Everyday - Discontinuous Existence (Subarashiki Hibi)_87.json', 'Wonderful Everyday - Discontinuous Existence (Subarashiki Hibi)_88.json', 'Wonderful Everyday - Discontinuous Existence (Subarashiki Hibi)_89.json', 'Wonderful Everyday - Discontinuous Existence (Subarashiki Hibi)_9.json', 'Wonderful Everyday - Discontinuous Existence (Subarashiki Hibi)_90.json', 'Wonderful Everyday - Discontinuous Existence (Subarashiki Hibi)_91.json', 'Wonderful Everyday - Discontinuous Existence (Subarashiki Hibi)_92.json', 'Wonderful Everyday - Discontinuous Existence (Subarashiki Hibi)_93.json', 'Wonderful Everyday - Discontinuous Existence (Subarashiki Hibi)_94.json', 'Wonderful Everyday - Discontinuous Existence (Subarashiki Hibi)_95.json', 'Wonderful Everyday - Discontinuous Existence (Subarashiki Hibi)_96.json', 'Wonderful Everyday - Discontinuous Existence (Subarashiki Hibi)_97.json', 'Wonderful Everyday - Discontinuous Existence (Subarashiki Hibi)_98.json', 'Wonderful Everyday - Discontinuous Existence (Subarashiki Hibi)_99.json']\n",
      "Wonderful Everyday - Discontinuous Existence (Subarashiki Hibi)_1.json\n",
      "Wonderful Everyday - Discontinuous Existence (Subarashiki Hibi)_10.json\n"
     ]
    },
    {
     "ename": "FileNotFoundError",
     "evalue": "[Errno 2] No such file or directory: 'c:\\\\Users\\\\IoT Lab1\\\\bong\\\\insight_text_game\\\\novel_dataset\\\\..\\\\..\\\\insight_text_game_dataset\\\\visual-novels-json\\\\visual-novels-json\\\\Wonderful Everyday - Discontinuous Existence (Subarashiki Hibi)\\\\Wonderful Everyday - Discontinuous Existence (Subarashiki Hibi)_10.json'",
     "output_type": "error",
     "traceback": [
      "\u001b[1;31m---------------------------------------------------------------------------\u001b[0m",
      "\u001b[1;31mFileNotFoundError\u001b[0m                         Traceback (most recent call last)",
      "Cell \u001b[1;32mIn[11], line 10\u001b[0m\n\u001b[0;32m      8\u001b[0m \u001b[38;5;28mprint\u001b[39m(novel_name)\n\u001b[0;32m      9\u001b[0m novel_path \u001b[38;5;241m=\u001b[39m os\u001b[38;5;241m.\u001b[39mpath\u001b[38;5;241m.\u001b[39mjoin(novels_folder_path, novel_folder_name, novel_name)\n\u001b[1;32m---> 10\u001b[0m \u001b[38;5;28;01mwith\u001b[39;00m \u001b[38;5;28;43mopen\u001b[39;49m\u001b[43m(\u001b[49m\u001b[43mnovel_path\u001b[49m\u001b[43m,\u001b[49m\u001b[43m \u001b[49m\u001b[38;5;124;43m'\u001b[39;49m\u001b[38;5;124;43mrt\u001b[39;49m\u001b[38;5;124;43m'\u001b[39;49m\u001b[43m,\u001b[49m\u001b[43m \u001b[49m\u001b[43mencoding\u001b[49m\u001b[38;5;241;43m=\u001b[39;49m\u001b[38;5;124;43m'\u001b[39;49m\u001b[38;5;124;43mutf-8\u001b[39;49m\u001b[38;5;124;43m'\u001b[39;49m\u001b[43m)\u001b[49m \u001b[38;5;28;01mas\u001b[39;00m f:\n\u001b[0;32m     11\u001b[0m     json_data \u001b[38;5;241m=\u001b[39m json\u001b[38;5;241m.\u001b[39mload(f)\n\u001b[0;32m     12\u001b[0m     preprocessing_novel_json \u001b[38;5;241m=\u001b[39m data_split(json_data)\n",
      "File \u001b[1;32mc:\\Users\\IoT Lab1\\bong\\.venv\\Lib\\site-packages\\IPython\\core\\interactiveshell.py:324\u001b[0m, in \u001b[0;36m_modified_open\u001b[1;34m(file, *args, **kwargs)\u001b[0m\n\u001b[0;32m    317\u001b[0m \u001b[38;5;28;01mif\u001b[39;00m file \u001b[38;5;129;01min\u001b[39;00m {\u001b[38;5;241m0\u001b[39m, \u001b[38;5;241m1\u001b[39m, \u001b[38;5;241m2\u001b[39m}:\n\u001b[0;32m    318\u001b[0m     \u001b[38;5;28;01mraise\u001b[39;00m \u001b[38;5;167;01mValueError\u001b[39;00m(\n\u001b[0;32m    319\u001b[0m         \u001b[38;5;124mf\u001b[39m\u001b[38;5;124m\"\u001b[39m\u001b[38;5;124mIPython won\u001b[39m\u001b[38;5;124m'\u001b[39m\u001b[38;5;124mt let you open fd=\u001b[39m\u001b[38;5;132;01m{\u001b[39;00mfile\u001b[38;5;132;01m}\u001b[39;00m\u001b[38;5;124m by default \u001b[39m\u001b[38;5;124m\"\u001b[39m\n\u001b[0;32m    320\u001b[0m         \u001b[38;5;124m\"\u001b[39m\u001b[38;5;124mas it is likely to crash IPython. If you know what you are doing, \u001b[39m\u001b[38;5;124m\"\u001b[39m\n\u001b[0;32m    321\u001b[0m         \u001b[38;5;124m\"\u001b[39m\u001b[38;5;124myou can use builtins\u001b[39m\u001b[38;5;124m'\u001b[39m\u001b[38;5;124m open.\u001b[39m\u001b[38;5;124m\"\u001b[39m\n\u001b[0;32m    322\u001b[0m     )\n\u001b[1;32m--> 324\u001b[0m \u001b[38;5;28;01mreturn\u001b[39;00m \u001b[43mio_open\u001b[49m\u001b[43m(\u001b[49m\u001b[43mfile\u001b[49m\u001b[43m,\u001b[49m\u001b[43m \u001b[49m\u001b[38;5;241;43m*\u001b[39;49m\u001b[43margs\u001b[49m\u001b[43m,\u001b[49m\u001b[43m \u001b[49m\u001b[38;5;241;43m*\u001b[39;49m\u001b[38;5;241;43m*\u001b[39;49m\u001b[43mkwargs\u001b[49m\u001b[43m)\u001b[49m\n",
      "\u001b[1;31mFileNotFoundError\u001b[0m: [Errno 2] No such file or directory: 'c:\\\\Users\\\\IoT Lab1\\\\bong\\\\insight_text_game\\\\novel_dataset\\\\..\\\\..\\\\insight_text_game_dataset\\\\visual-novels-json\\\\visual-novels-json\\\\Wonderful Everyday - Discontinuous Existence (Subarashiki Hibi)\\\\Wonderful Everyday - Discontinuous Existence (Subarashiki Hibi)_10.json'"
     ]
    }
   ],
   "source": [
    "import json\n",
    "\n",
    "novel_folder_name = \"Wonderful Everyday - Discontinuous Existence (Subarashiki Hibi)\"\n",
    "novel_list = os.listdir(os.path.join(novels_folder_path, novel_folder_name))\n",
    "print(os.path.join(novels_folder_path, novel_folder_name))\n",
    "print(novel_list)\n",
    "for novel_name in novel_list:\n",
    "    print(novel_name)\n",
    "    novel_path = os.path.join(novels_folder_path, novel_folder_name, novel_name)\n",
    "    with open(novel_path, 'r', encoding='utf-8') as f:\n",
    "        json_data = json.load(f)\n",
    "        preprocessing_novel_json = data_split(json_data)\n",
    "        save_novel(preprocessing_novel_json, novel_folder_name, novel_name)"
   ]
  },
  {
   "cell_type": "markdown",
   "metadata": {},
   "source": [
    "# Change the name of the main character of the novel"
   ]
  },
  {
   "cell_type": "code",
   "execution_count": 4,
   "metadata": {},
   "outputs": [],
   "source": [
    "import os\n",
    "current_folder = os.getcwd()\n",
    "\n",
    "# json 파일들이 모일 상위 폴더\n",
    "novels_folder_path = os.path.join(current_folder, '..\\\\..\\\\insight_text_game_dataset\\\\visual-novel-preprocessing')\n",
    "\n",
    "novels_folder_list = os.listdir(novels_folder_path)"
   ]
  },
  {
   "cell_type": "code",
   "execution_count": 36,
   "metadata": {},
   "outputs": [],
   "source": [
    "def change_char_name(data, name):\n",
    "    novel = []      \n",
    "    for line in data:\n",
    "        for key, value in line.items():\n",
    "            if key==name:\n",
    "                novel.append({'<USER>':value})\n",
    "            else:\n",
    "                novel.append({key:value})\n",
    "    return novel"
   ]
  },
  {
   "cell_type": "code",
   "execution_count": 6,
   "metadata": {},
   "outputs": [],
   "source": [
    "def save_novel(preprocessing_novel_json, novel_folder_name, novel_name):\n",
    "    save_novelfolder_path = os.path.join(save_folder_path, novel_folder_name)\n",
    "    \n",
    "    def save_json():\n",
    "        save_json_url = os.path.join(save_novelfolder_path, novel_name)\n",
    "        \n",
    "        with open(save_json_url, 'wt', encoding='utf-8') as f:\n",
    "            json.dump(preprocessing_novel_json, f, ensure_ascii=False, indent=4)\n",
    "        \n",
    "    def create_save_folder_of_novel():\n",
    "        if not os.path.exists(save_novelfolder_path):\n",
    "            os.mkdir(save_novelfolder_path)\n",
    "            \n",
    "    create_save_folder_of_novel()\n",
    "    save_json()"
   ]
  },
  {
   "cell_type": "code",
   "execution_count": 39,
   "metadata": {},
   "outputs": [],
   "source": [
    "import json\n",
    "\n",
    "select_novel_name = novels_folder_list[0]\n",
    "\n",
    "novels_json_list = os.listdir(os.path.join(novels_folder_path, select_novel_name))\n",
    "for novel_name in novels_json_list:\n",
    "    novel_path = os.path.join(novels_folder_path, select_novel_name, novel_name)\n",
    "    with open(novel_path, 'r', encoding='utf-8') as f:\n",
    "        json_data = json.load(f)\n",
    "        preprocessing_novel_json = change_char_name(json_data, \"Kakeru\")\n",
    "        save_novel(preprocessing_novel_json, select_novel_name, novel_name)"
   ]
  },
  {
   "cell_type": "code",
   "execution_count": 38,
   "metadata": {},
   "outputs": [
    {
     "name": "stdout",
     "output_type": "stream",
     "text": [
      "[{'<USER>': '\"...\"'}, {'narration': 'I sit in class, listening with half an ear.'}, {'narration': 'After... After we split up in the park, I tried sending a message to Kujo.'}, {'narration': '\"I\\'m fine. And, I\\'m sorry.\"'}, {'narration': 'That was all she sent back.'}, {'narration': \"She wouldn't elaborate on why she was so shaken up.\"}, {'narration': 'Am I seriously the culprit?'}, {'narration': \"That couldn't possibly be true. Although... there are strange cases like Kosaka-senpai.\"}, {'split': '==============================='}, {'narration': \"What if I've got a second personality, and I've been doing this without even knowing it?\"}, {'narration': \"What if I've been completely ignorant about it this entire time, while I went out and killed people?\"}, {'narration': \"It's only too believable.\"}, {'split': '==============================='}, {'narration': 'It would explain why Kujo is acting the way she is.'}, {'narration': \"We said hi today, but we haven't had anything like an actual conversation since then.\"}, {'narration': 'I let out a little sigh and look up, peeking over at Kujo.'}, {'Miyako': '\"...\"'}, {'narration': \"Her expression is grim—even more so than that time she was fretting over her hair clip's paranormal activity.\"}, {'narration': \"It looks like she's also not focusing on class.\"}, {'narration': \"It also looks like she's trying to figure out a way to tell me the truth.\"}, {'narration': \"Ah, man... And we were hitting it off so well, too. Actually, y'know, it's thoughts like that, where I get all mopey at totally inappropriate times, that make me kind of question myself.\"}, {'Miyako': '\"...\"'}, {'<USER>': '\"...?\"'}, {'narration': \"That was Kujo's Stigma, flashing for a split second on her left hand.\"}, {'split': '==============================='}, {'narration': 'Am I seeing things?'}, {'narration': 'No.'}, {'split': '==============================='}, {'Miyako': '\"...\"'}, {'narration': 'There it is again. A momentary blue light.'}, {'narration': \"I pull out my phone and type a message under my desk so that Ms. Naruse doesn't notice.\"}, {'narration': '\"Did you just use your power?\"'}, {'Miyako': '\"...\"'}, {'split': '==============================='}, {'narration': 'Kujo pulls out her phone and checks the screen.'}, {'narration': 'She then quickly puts it away without replying.'}, {'narration': \"I know that Kujo is a diligent person, so she'd be reluctant to have a text chat in the middle of class, but...\"}, {'narration': \"It just isn't like her to go using her powers on a whim.\"}, {'narration': \"I wonder if... No, I'm positive this has something to do with what happened yesterday.\"}, {'Miyako': '\"...\"'}, {'narration': 'Kujo conceals her left hand in an unnatural manner.'}, {'narration': \"It seems that she's been using her power over and over during class.\"}, {'<USER>': '\"Kujo!\"'}, {'Miyako': '\"...?\"'}, {'narration': 'When Kujo leaves the room after class, I run after her and call out to her.'}, {'split': '==============================='}, {'Miyako': '\"What\\'s the matter?\"'}, {'<USER>': '\"Don\\'t give me that. You read my message, didn\\'t you?\"'}, {'Miyako': '\"Oh, yeah.\"'}, {'split': '==============================='}, {'<USER>': '\"Are you alright?\"'}, {'Miyako': '\"Why do you ask?\"'}, {'<USER>': '\"You\\'ve been acting weird. I can\\'t believe you used your power repeatedly in class.\"'}, {'split': '==============================='}, {'Miyako': '\"It was necessary.\"'}, {'<USER>': '\"Necessary? Why?\"'}, {'Miyako': '\"When targeting things without form, it becomes difficult to steal the target I\\'m after. Therefore, I need to practice.\"'}, {'split': '==============================='}, {'<USER>': '\"Hold on, Kujo, you don\\'t mean...\"'}, {'<USER>': '\"You\\'ve been stealing everyone\\'s memories?\"'}, {'Miyako': '\"...\"'}, {'split': '==============================='}, {'narration': \"Kujo doesn't answer my question.\"}, {'narration': 'But her silence is all the answer I need.'}, {'<USER>': '\"Why are you doing this?\"'}, {'Miyako': '\"I hoped you would understand, Niimi-kun.\"'}, {'split': '==============================='}, {'<USER>': '\"You plan on just randomly searching everyone?\"'}, {'Miyako': '\"Yes, precisely.\"'}, {'split': '==============================='}, {'narration': 'Kujo readily admits.'}, {'narration': 'Despite being so hesitant back when she used it on me? Despite the tremble in her hands when she did it?'}, {'narration': 'That was just yesterday! How has she changed this much in the span of a single day?'}, {'Miyako': '\"I\\'ll be fine. Don\\'t worry. I\\'ll find the culprit, mark my words.\"'}, {'split': '==============================='}, {'<USER>': '\"...Is there anything I can do?\"'}, {'Miyako': '\"...\"'}, {'split': '==============================='}, {'Miyako': '\"This is something I have to do. And I want to do it alone.\"'}, {'Miyako': '\"I feel it\\'s my obligation.\"'}, {'<USER>': '\"What?\"'}, {'Miyako': '\"Thank you for everything you\\'ve done for me.\"'}, {'split': '==============================='}, {'Miyako': '\"I won\\'t trouble you any more.\"'}, {'<USER>': '\"Huh? H-Hey!\"'}, {'Miyako': '\"...\"'}, {'split': '==============================='}, {'narration': 'I reach out my hand, but it falls short.'}, {'narration': 'Kujo walks down the hallway and disappears into the bathroom.'}, {'narration': '...'}, {'Yoichi': '\"What\\'s up? You alright?\"'}, {'<USER>': '\"Huh? O-Oh, yeah.\"'}, {'Yoichi': '\"Did you have a fight with Kujo-san or something?\"'}, {'<USER>': '\"No. Not exactly.\"'}, {'split': '==============================='}, {'Yoichi': '\"Oh yeah? You two have been acting strange since this morning.\"'}, {'<USER>': '\"...\"'}, {'split': '==============================='}, {'Yoichi': '\"You\\'re fighting, aren\\'t you?\"'}, {'<USER>': '\"I might have been keeping something from her. Something bad enough to spark a fight.\"'}, {'split': '==============================='}, {'Yoichi': '\"Whoa, really? Kinda shocking, since you guys always give me a more-than-friends-but-less-than-lovers kinda vibe.\"'}, {'<USER>': '\"Let\\'s get back to the classroom.\"'}, {'split': '==============================='}, {'Yoichi': '\"Hm? Oh, sure.\"'}, {'narration': 'We turn around and head back to the classroom.'}, {'split': '==============================='}, {'narration': '...'}, {'narration': 'She \"won\\'t trouble me anymore\"?'}, {'narration': \"That single comment brings me back to the same feeling of unfamiliarity I had back when I'd only just started talking to Kujo, when I was just another regular customer at Nine Ball.\"}, {'split': '==============================='}, {'narration': \"That's the sense I got, at least.\"}, {'narration': 'The frustration is overwhelming.'}, {'narration': \"I can't help but feel like...\"}, {'narration': 'Kujo and I have begun to drift apart.'}]\n"
     ]
    }
   ],
   "source": [
    "print(preprocessing_novel_json)"
   ]
  }
 ],
 "metadata": {
  "kernelspec": {
   "display_name": ".venv",
   "language": "python",
   "name": "python3"
  },
  "language_info": {
   "codemirror_mode": {
    "name": "ipython",
    "version": 3
   },
   "file_extension": ".py",
   "mimetype": "text/x-python",
   "name": "python",
   "nbconvert_exporter": "python",
   "pygments_lexer": "ipython3",
   "version": "3.12.2"
  }
 },
 "nbformat": 4,
 "nbformat_minor": 2
}
