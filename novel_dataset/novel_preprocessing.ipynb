{
 "cells": [
  {
   "cell_type": "code",
   "execution_count": 12,
   "metadata": {},
   "outputs": [],
   "source": [
    "import os\n",
    "current_folder = os.getcwd()\n",
    "\n",
    "novels_folder_path = os.path.join(current_folder, '..\\\\..\\\\insight_text_game_dataset\\\\visual-novels-json\\\\visual-novels-json')\n",
    "\n",
    "# json 파일들이 모일 상위 폴더\n",
    "save_folder_path = os.path.join(current_folder, '..\\\\..\\\\insight_text_game_dataset\\\\visual-novel-preprocesssing')\n",
    "\n",
    "novels_folder_list = os.listdir(novels_folder_path)"
   ]
  },
  {
   "cell_type": "code",
   "execution_count": 13,
   "metadata": {},
   "outputs": [],
   "source": [
    "def data_split(json_data):\n",
    "    novel = []\n",
    "    sig=0\n",
    "    # def print_sig(line):\n",
    "    #     print(line)\n",
    "    #     print('\\n\\n')\n",
    "            \n",
    "    for line in json_data:\n",
    "        novel.append(line)\n",
    "        str_value = list(line.values())[0]\n",
    "        \n",
    "        if sig:\n",
    "            #print_sig(line)\n",
    "            sig=0\n",
    "            novel.append({'split': '==============================='})\n",
    "            \n",
    "        if '?' in str_value:\n",
    "            #print(line)\n",
    "            sig=1\n",
    "    \n",
    "    return novel"
   ]
  },
  {
   "cell_type": "code",
   "execution_count": 14,
   "metadata": {},
   "outputs": [],
   "source": [
    "def save_novel(preprocessing_novel_json, novel_folder_name, novel_name):\n",
    "    save_novelfolder_path = os.path.join(save_folder_path, novel_folder_name)\n",
    "    \n",
    "    def save_json():\n",
    "        save_json_url = os.path.join(save_novelfolder_path, novel_name)\n",
    "        \n",
    "        with open(save_json_url, 'wt', encoding='utf-8') as f:\n",
    "            json.dump(preprocessing_novel_json, f, ensure_ascii=False, indent=4)\n",
    "        \n",
    "    def create_save_folder_of_novel():\n",
    "        if not os.path.exists(save_novelfolder_path):\n",
    "            os.mkdir(save_novelfolder_path)\n",
    "            \n",
    "    create_save_folder_of_novel()\n",
    "    save_json()"
   ]
  },
  {
   "cell_type": "code",
   "execution_count": 15,
   "metadata": {},
   "outputs": [
    {
     "ename": "FileNotFoundError",
     "evalue": "[WinError 3] 지정된 경로를 찾을 수 없습니다: 'c:\\\\Users\\\\IoT Lab1\\\\bong\\\\insight_text_game\\\\novel_dataset\\\\..\\\\..\\\\insight_text_game_dataset\\\\visual-novel-preprocesssing\\\\9-nine- Episode 1'",
     "output_type": "error",
     "traceback": [
      "\u001b[1;31m---------------------------------------------------------------------------\u001b[0m",
      "\u001b[1;31mFileNotFoundError\u001b[0m                         Traceback (most recent call last)",
      "Cell \u001b[1;32mIn[15], line 9\u001b[0m\n\u001b[0;32m      7\u001b[0m     json_data \u001b[38;5;241m=\u001b[39m json\u001b[38;5;241m.\u001b[39mload(f)\n\u001b[0;32m      8\u001b[0m     preprocessing_novel_json \u001b[38;5;241m=\u001b[39m data_split(json_data)\n\u001b[1;32m----> 9\u001b[0m     \u001b[43msave_novel\u001b[49m\u001b[43m(\u001b[49m\u001b[43mpreprocessing_novel_json\u001b[49m\u001b[43m,\u001b[49m\u001b[43m \u001b[49m\u001b[43mnovel_folder_name\u001b[49m\u001b[43m,\u001b[49m\u001b[43m \u001b[49m\u001b[43mnovel_name\u001b[49m\u001b[43m)\u001b[49m\n\u001b[0;32m     10\u001b[0m exit(\u001b[38;5;241m0\u001b[39m)\n",
      "Cell \u001b[1;32mIn[14], line 14\u001b[0m, in \u001b[0;36msave_novel\u001b[1;34m(preprocessing_novel_json, novel_folder_name, novel_name)\u001b[0m\n\u001b[0;32m     11\u001b[0m     \u001b[38;5;28;01mif\u001b[39;00m \u001b[38;5;129;01mnot\u001b[39;00m os\u001b[38;5;241m.\u001b[39mpath\u001b[38;5;241m.\u001b[39mexists(save_novelfolder_path):\n\u001b[0;32m     12\u001b[0m         os\u001b[38;5;241m.\u001b[39mmkdir(save_novelfolder_path)\n\u001b[1;32m---> 14\u001b[0m \u001b[43mcreate_save_folder_of_novel\u001b[49m\u001b[43m(\u001b[49m\u001b[43m)\u001b[49m\n\u001b[0;32m     15\u001b[0m save_json()\n",
      "Cell \u001b[1;32mIn[14], line 12\u001b[0m, in \u001b[0;36msave_novel.<locals>.create_save_folder_of_novel\u001b[1;34m()\u001b[0m\n\u001b[0;32m     10\u001b[0m \u001b[38;5;28;01mdef\u001b[39;00m \u001b[38;5;21mcreate_save_folder_of_novel\u001b[39m():\n\u001b[0;32m     11\u001b[0m     \u001b[38;5;28;01mif\u001b[39;00m \u001b[38;5;129;01mnot\u001b[39;00m os\u001b[38;5;241m.\u001b[39mpath\u001b[38;5;241m.\u001b[39mexists(save_novelfolder_path):\n\u001b[1;32m---> 12\u001b[0m         \u001b[43mos\u001b[49m\u001b[38;5;241;43m.\u001b[39;49m\u001b[43mmkdir\u001b[49m\u001b[43m(\u001b[49m\u001b[43msave_novelfolder_path\u001b[49m\u001b[43m)\u001b[49m\n",
      "\u001b[1;31mFileNotFoundError\u001b[0m: [WinError 3] 지정된 경로를 찾을 수 없습니다: 'c:\\\\Users\\\\IoT Lab1\\\\bong\\\\insight_text_game\\\\novel_dataset\\\\..\\\\..\\\\insight_text_game_dataset\\\\visual-novel-preprocesssing\\\\9-nine- Episode 1'"
     ]
    }
   ],
   "source": [
    "import json\n",
    "for novel_folder_name in novels_folder_list[1:]:\n",
    "    novel_list = os.listdir(os.path.join(novels_folder_path, novel_folder_name))\n",
    "    for novel_name in novel_list:\n",
    "        novel_path = os.path.join(novels_folder_path, novel_folder_name, novel_name)\n",
    "        with open(novel_path, 'r', encoding='utf-8') as f:\n",
    "            json_data = json.load(f)\n",
    "            preprocessing_novel_json = data_split(json_data)\n",
    "            save_novel(preprocessing_novel_json, novel_folder_name, novel_name)\n",
    "        exit(0)"
   ]
  },
  {
   "cell_type": "code",
   "execution_count": null,
   "metadata": {},
   "outputs": [],
   "source": []
  }
 ],
 "metadata": {
  "kernelspec": {
   "display_name": ".venv",
   "language": "python",
   "name": "python3"
  },
  "language_info": {
   "codemirror_mode": {
    "name": "ipython",
    "version": 3
   },
   "file_extension": ".py",
   "mimetype": "text/x-python",
   "name": "python",
   "nbconvert_exporter": "python",
   "pygments_lexer": "ipython3",
   "version": "3.12.2"
  }
 },
 "nbformat": 4,
 "nbformat_minor": 2
}
