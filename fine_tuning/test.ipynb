{
 "cells": [
  {
   "cell_type": "code",
   "execution_count": 1,
   "metadata": {},
   "outputs": [
    {
     "name": "stderr",
     "output_type": "stream",
     "text": [
      "c:\\Users\\kimbo\\code\\insight_text_game\\.venv\\Lib\\site-packages\\tqdm\\auto.py:21: TqdmWarning: IProgress not found. Please update jupyter and ipywidgets. See https://ipywidgets.readthedocs.io/en/stable/user_install.html\n",
      "  from .autonotebook import tqdm as notebook_tqdm\n",
      "Loading checkpoint shards: 100%|██████████| 3/3 [00:00<00:00,  3.48it/s]\n"
     ]
    },
    {
     "name": "stdout",
     "output_type": "stream",
     "text": [
      "옛날 옛적에, 옛날 옛적에, 옛날 옛적에, 옛날 옛적에, 옛날 옛적에, 옛날 옛적에, 옛날 옛적에, 옛날 옛적에, 옛날 옛적에, 옛날 옛적에, 옛날 옛적에, 옛날 옛적에, 옛날 옛적에, 옛날 옛적에, 옛날 옛적에, 옛날 옛적에, 옛날 옛적에, 옛날 옛적에, 옛날 옛적에, 옛날 옛적에, 옛날 옛적에, 옛날 옛적에, 옛날 옛적에, 옛날 옛적에, 옛날 옛적에, 옛날 옛적에, 옛날 옛적에, 옛날 옛적에, 옛날 옛적에, 옛날 옛적에, 옛날 옛적에, 옛날 옛적에, 옛날 옛적에,\n"
     ]
    }
   ],
   "source": [
    "import torch\n",
    "from transformers import pipeline\n",
    "\n",
    "pipe = pipeline(\n",
    "    \"text-generation\",\n",
    "    model=\"google/gemma-2-2b\",\n",
    "    device=\"cpu\",  # replace with \"mps\" to run on a Mac device\n",
    ")\n",
    "\n",
    "text = \"옛날 옛적에,\"\n",
    "outputs = pipe(text, max_new_tokens=256)\n",
    "response = outputs[0][\"generated_text\"]\n",
    "print(response)"
   ]
  }
 ],
 "metadata": {
  "kernelspec": {
   "display_name": ".venv",
   "language": "python",
   "name": "python3"
  },
  "language_info": {
   "codemirror_mode": {
    "name": "ipython",
    "version": 3
   },
   "file_extension": ".py",
   "mimetype": "text/x-python",
   "name": "python",
   "nbconvert_exporter": "python",
   "pygments_lexer": "ipython3",
   "version": "3.12.6"
  }
 },
 "nbformat": 4,
 "nbformat_minor": 2
}
